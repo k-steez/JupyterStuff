{
 "cells": [
  {
   "cell_type": "code",
   "execution_count": 31,
   "id": "66cf9eb8-5451-4bf4-9288-5b8bbfb49051",
   "metadata": {},
   "outputs": [],
   "source": [
    "import numpy as np"
   ]
  },
  {
   "cell_type": "code",
   "execution_count": 217,
   "id": "0772810e-e9d6-449c-9ec1-6ed8eee8987c",
   "metadata": {},
   "outputs": [],
   "source": [
    "a = [4,5,6,1,4]"
   ]
  },
  {
   "cell_type": "code",
   "execution_count": 153,
   "id": "b29a7596-aada-4d6b-b6c6-7202f2ee8506",
   "metadata": {},
   "outputs": [
    {
     "data": {
      "text/plain": [
       "(5,)"
      ]
     },
     "execution_count": 153,
     "metadata": {},
     "output_type": "execute_result"
    }
   ],
   "source": [
    "b = np.array(a)\n"
   ]
  },
  {
   "cell_type": "code",
   "execution_count": 12,
   "id": "996961bf-5189-4605-8a5c-7e719cd0f9a0",
   "metadata": {},
   "outputs": [
    {
     "data": {
      "text/plain": [
       "array([ 9, 10, 11,  6,  9])"
      ]
     },
     "execution_count": 12,
     "metadata": {},
     "output_type": "execute_result"
    }
   ],
   "source": [
    "b + 5"
   ]
  },
  {
   "cell_type": "code",
   "execution_count": 14,
   "id": "ff605ef7-435f-4a8a-aa1b-8bff870ab9cf",
   "metadata": {},
   "outputs": [
    {
     "data": {
      "text/plain": [
       "array([0, 1, 0, 1, 0], dtype=int32)"
      ]
     },
     "execution_count": 14,
     "metadata": {},
     "output_type": "execute_result"
    }
   ],
   "source": [
    "b % 2"
   ]
  },
  {
   "cell_type": "code",
   "execution_count": 16,
   "id": "379babe0-1601-47e9-94c6-cfbe5cf7a1dc",
   "metadata": {},
   "outputs": [
    {
     "data": {
      "text/plain": [
       "array([2. , 2.5, 3. , 3.5, 4. , 4.5, 5. , 5.5, 6. , 6.5, 7. , 7.5, 8. ,\n",
       "       8.5, 9. , 9.5])"
      ]
     },
     "execution_count": 16,
     "metadata": {},
     "output_type": "execute_result"
    }
   ],
   "source": [
    "np.arange(2,10,0.5)"
   ]
  },
  {
   "cell_type": "code",
   "execution_count": 24,
   "id": "722e647b-b739-413a-9a58-8cd10297d179",
   "metadata": {},
   "outputs": [],
   "source": [
    "x = np.linspace(0.5,4)"
   ]
  },
  {
   "cell_type": "code",
   "execution_count": 48,
   "id": "f11c820a-27c7-471f-8f4a-46f4d0b43543",
   "metadata": {},
   "outputs": [],
   "source": [
    "y = np.cos(x)"
   ]
  },
  {
   "cell_type": "code",
   "execution_count": 132,
   "id": "14560d6a-d350-415d-a265-d2e51cb2c411",
   "metadata": {},
   "outputs": [],
   "source": [
    "import matplotlib.pyplot as plt"
   ]
  },
  {
   "cell_type": "code",
   "execution_count": 54,
   "id": "393f94c0-19af-4688-9146-388ac177f04e",
   "metadata": {},
   "outputs": [
    {
     "data": {
      "text/plain": [
       "[<matplotlib.lines.Line2D at 0x16c243b98e0>]"
      ]
     },
     "execution_count": 54,
     "metadata": {},
     "output_type": "execute_result"
    },
    {
     "data": {
      "image/png": "[encoded data removed]",
      "text/plain": [
       "<Figure size 640x480 with 1 Axes>"
      ]
     },
     "metadata": {},
     "output_type": "display_data"
    }
   ],
   "source": [
    "plt.plot(x,y)"
   ]
  },
  {
   "cell_type": "code",
   "execution_count": 30,
   "id": "27fc49be-6301-4365-b105-79b47111917c",
   "metadata": {},
   "outputs": [
    {
     "data": {
      "text/plain": [
       "array([ 7.5,  8. ,  8.5,  9. ,  9.5, 10. , 10.5, 11. , 11.5, 12. , 12.5,\n",
       "       13. , 13.5, 14. , 14.5, 15. , 15.5, 16. , 16.5, 17. , 17.5, 18. ,\n",
       "       18.5, 19. , 19.5, 20. , 20.5, 21. , 21.5, 22. , 22.5, 23. , 23.5,\n",
       "       24. , 24.5, 25. , 25.5, 26. , 26.5, 27. , 27.5, 28. , 28.5, 29. ,\n",
       "       29.5, 30. , 30.5, 31. , 31.5, 32. ])"
      ]
     },
     "execution_count": 30,
     "metadata": {},
     "output_type": "execute_result"
    }
   ],
   "source": [
    "y = 2*x + 4 + 5*x\n",
    "y\n",
    "## mapping x onto a function y"
   ]
  },
  {
   "cell_type": "code",
   "execution_count": 32,
   "id": "36f497a4-9859-4be0-8575-a7aa299ee251",
   "metadata": {},
   "outputs": [
    {
     "data": {
      "text/plain": [
       "array([0., 0., 0., 0., 0., 0., 0., 0., 0., 0., 0., 0., 0., 0., 0., 0., 0.,\n",
       "       0., 0., 0.])"
      ]
     },
     "execution_count": 32,
     "metadata": {},
     "output_type": "execute_result"
    }
   ],
   "source": [
    "np.zeros(20)"
   ]
  },
  {
   "cell_type": "code",
   "execution_count": 34,
   "id": "503f455d-5d6d-4292-9360-1ce3f331a8fa",
   "metadata": {},
   "outputs": [
    {
     "data": {
      "text/plain": [
       "array([1., 1., 1., 1., 1.])"
      ]
     },
     "execution_count": 34,
     "metadata": {},
     "output_type": "execute_result"
    }
   ],
   "source": [
    "np.ones(5)"
   ]
  },
  {
   "cell_type": "code",
   "execution_count": 38,
   "id": "21ed8e35-497c-4714-a129-8f83540b12ed",
   "metadata": {},
   "outputs": [
    {
     "data": {
      "text/plain": [
       "array([15., 15., 15., 15., 15., 15., 15., 15., 15., 15., 15., 15., 15.,\n",
       "       15., 15.])"
      ]
     },
     "execution_count": 38,
     "metadata": {},
     "output_type": "execute_result"
    }
   ],
   "source": [
    "np.ones(15) * 15"
   ]
  },
  {
   "cell_type": "code",
   "execution_count": 142,
   "id": "dae0fed7-1876-45fb-9803-d85962bad2e5",
   "metadata": {},
   "outputs": [],
   "source": [
    "def sum_odd_and_even(lst):\n",
    "    sum1 = 0 \n",
    "    sum2 = 0 \n",
    "    for element in lst:\n",
    "        if element % 2 == 0:\n",
    "            sum1 += element  \n",
    "        else:\n",
    "            sum2 += element  \n",
    "    new_list = []\n",
    "    new_list.append(sum1)\n",
    "    new_list.append(sum2)\n",
    "    return new_list"
   ]
  },
  {
   "cell_type": "code",
   "execution_count": 145,
   "id": "8b4db354-8f2c-4181-8256-e0bde9731839",
   "metadata": {},
   "outputs": [
    {
     "data": {
      "text/plain": [
       "[6, 4]"
      ]
     },
     "execution_count": 145,
     "metadata": {},
     "output_type": "execute_result"
    }
   ],
   "source": [
    "sum_odd_and_even([4,3,2,1])"
   ]
  },
  {
   "cell_type": "code",
   "execution_count": 70,
   "id": "ef8ef771-0aeb-49e4-9792-0169e467d947",
   "metadata": {},
   "outputs": [
    {
     "data": {
      "text/plain": [
       "array([[1., 0., 0., 0., 0., 0., 0.],\n",
       "       [0., 1., 0., 0., 0., 0., 0.],\n",
       "       [0., 0., 1., 0., 0., 0., 0.],\n",
       "       [0., 0., 0., 1., 0., 0., 0.],\n",
       "       [0., 0., 0., 0., 1., 0., 0.],\n",
       "       [0., 0., 0., 0., 0., 1., 0.],\n",
       "       [0., 0., 0., 0., 0., 0., 1.]])"
      ]
     },
     "execution_count": 70,
     "metadata": {},
     "output_type": "execute_result"
    }
   ],
   "source": [
    "I = np.eye(7)\n",
    "I"
   ]
  },
  {
   "cell_type": "code",
   "execution_count": 159,
   "id": "09dab8bf-b013-4de7-bb5f-680975ffb077",
   "metadata": {},
   "outputs": [
    {
     "data": {
      "text/plain": [
       "(7, 7)"
      ]
     },
     "execution_count": 159,
     "metadata": {},
     "output_type": "execute_result"
    }
   ],
   "source": [
    "I.shape"
   ]
  },
  {
   "cell_type": "code",
   "execution_count": 74,
   "id": "f54a0ad4-cde8-45aa-99c8-38c5a33d5234",
   "metadata": {},
   "outputs": [
    {
     "data": {
      "text/plain": [
       "49"
      ]
     },
     "execution_count": 74,
     "metadata": {},
     "output_type": "execute_result"
    }
   ],
   "source": [
    "I.size"
   ]
  },
  {
   "cell_type": "code",
   "execution_count": 163,
   "id": "668909ba-0a43-44de-843a-c7764251b3c6",
   "metadata": {},
   "outputs": [
    {
     "data": {
      "text/plain": [
       "array([6.95324265e-310, 7.72656244e-312, 1.69121095e-306, 6.95324265e-310,\n",
       "       2.22526569e-307, 6.95324265e-310, 1.29060938e-306, 6.95324265e-310,\n",
       "       1.06811490e-306, 0.00000000e+000, 0.00000000e+000, 2.12199744e-311,\n",
       "                   nan, 7.56601843e-307, 4.94065646e-324, 4.94065646e-324,\n",
       "       0.00000000e+000, 7.72657738e-312, 7.72692697e-312, 8.90030222e-307,\n",
       "       0.00000000e+000, 0.00000000e+000, 8.90111708e-307, 6.89772896e-307,\n",
       "       7.72691962e-312, 6.95324264e-310, 0.00000000e+000, 7.41098469e-323,\n",
       "       7.72691962e-312, 7.72692337e-312, 0.00000000e+000, 7.41098469e-323,\n",
       "       6.89804132e-307, 0.00000000e+000, 8.34443015e-308, 9.45699680e-308,\n",
       "       1.11261774e-306, 1.29060871e-306, 4.94065646e-322, 2.12203497e-312])"
      ]
     },
     "execution_count": 163,
     "metadata": {},
     "output_type": "execute_result"
    }
   ],
   "source": [
    "np.empty(40)"
   ]
  },
  {
   "cell_type": "code",
   "execution_count": 221,
   "id": "a32baa0e-4869-430b-a4c6-982bf71b2195",
   "metadata": {},
   "outputs": [],
   "source": [
    "c = np.linspace(0,9,50) "
   ]
  },
  {
   "cell_type": "code",
   "execution_count": 223,
   "id": "edf9ae2f-d8d4-4334-ba86-95ca1c71f156",
   "metadata": {},
   "outputs": [
    {
     "data": {
      "text/plain": [
       "array([0.        , 0.18367347, 0.36734694, 0.55102041, 0.73469388,\n",
       "       0.91836735, 1.10204082, 1.28571429, 1.46938776, 1.65306122,\n",
       "       1.83673469, 2.02040816, 2.20408163, 2.3877551 , 2.57142857,\n",
       "       2.75510204, 2.93877551, 3.12244898, 3.30612245, 3.48979592,\n",
       "       3.67346939, 3.85714286, 4.04081633, 4.2244898 , 4.40816327,\n",
       "       4.59183673, 4.7755102 , 4.95918367, 5.14285714, 5.32653061,\n",
       "       5.51020408, 5.69387755, 5.87755102, 6.06122449, 6.24489796,\n",
       "       6.42857143, 6.6122449 , 6.79591837, 6.97959184, 7.16326531,\n",
       "       7.34693878, 7.53061224, 7.71428571, 7.89795918, 8.08163265,\n",
       "       8.26530612, 8.44897959, 8.63265306, 8.81632653, 9.        ])"
      ]
     },
     "execution_count": 223,
     "metadata": {},
     "output_type": "execute_result"
    }
   ],
   "source": [
    "np.sort(c)"
   ]
  },
  {
   "cell_type": "code",
   "execution_count": 251,
   "id": "fb89954d-f4ea-4e61-82f9-d152f4095a77",
   "metadata": {},
   "outputs": [
    {
     "data": {
      "text/plain": [
       "array([ 0.        ,  2.31578947,  4.63157895,  6.94736842,  9.26315789,\n",
       "       11.57894737, 13.89473684, 16.21052632, 18.52631579, 20.84210526,\n",
       "       23.15789474, 25.47368421, 27.78947368, 30.10526316, 32.42105263,\n",
       "       34.73684211, 37.05263158, 39.36842105, 41.68421053, 44.        ])"
      ]
     },
     "execution_count": 251,
     "metadata": {},
     "output_type": "execute_result"
    }
   ],
   "source": [
    "e = np.arange(0,5,2)\n",
    "f = np.linspace(0,44,20)\n",
    "f"
   ]
  },
  {
   "cell_type": "code",
   "execution_count": 253,
   "id": "d468ed75-e629-429a-9fde-523d82145e30",
   "metadata": {},
   "outputs": [],
   "source": [
    "array = np.concatenate((e,f))"
   ]
  },
  {
   "cell_type": "code",
   "execution_count": 255,
   "id": "1fdabfe1-0a88-48d3-ad26-c12912dcee99",
   "metadata": {},
   "outputs": [
    {
     "data": {
      "text/plain": [
       "23"
      ]
     },
     "execution_count": 255,
     "metadata": {},
     "output_type": "execute_result"
    }
   ],
   "source": [
    "array.size"
   ]
  },
  {
   "cell_type": "code",
   "execution_count": 257,
   "id": "51fa3df6-6c49-4f23-9cab-44886f5409e3",
   "metadata": {},
   "outputs": [],
   "source": [
    "test = np.linspace(0,2,5)"
   ]
  },
  {
   "cell_type": "code",
   "execution_count": 10,
   "id": "6b5b68ee-e168-4670-b011-c15497219073",
   "metadata": {},
   "outputs": [],
   "source": [
    "A = np.array([4,3,2,1])"
   ]
  },
  {
   "cell_type": "code",
   "execution_count": 14,
   "id": "68f79e98-3d94-45ac-9610-e2d7dd12cfd4",
   "metadata": {},
   "outputs": [
    {
     "data": {
      "text/plain": [
       "array([[4, 3],\n",
       "       [2, 1]])"
      ]
     },
     "execution_count": 14,
     "metadata": {},
     "output_type": "execute_result"
    }
   ],
   "source": [
    "A.reshape(2,2)"
   ]
  },
  {
   "cell_type": "code",
   "execution_count": 16,
   "id": "4c989ab3-b03c-4220-ba6e-c9968704fbb2",
   "metadata": {},
   "outputs": [
    {
     "data": {
      "text/plain": [
       "array([4, 3, 2, 1])"
      ]
     },
     "execution_count": 16,
     "metadata": {},
     "output_type": "execute_result"
    }
   ],
   "source": [
    "A.T"
   ]
  },
  {
   "cell_type": "code",
   "execution_count": 34,
   "id": "6c3f0a3c-48a6-4e4f-a385-b216ccc55eb7",
   "metadata": {},
   "outputs": [],
   "source": [
    "B = np.array([5])"
   ]
  },
  {
   "cell_type": "code",
   "execution_count": 82,
   "id": "337fa74c-f3bb-4a45-b080-8f2c65fab809",
   "metadata": {},
   "outputs": [
    {
     "data": {
      "text/plain": [
       "7"
      ]
     },
     "execution_count": 82,
     "metadata": {},
     "output_type": "execute_result"
    }
   ],
   "source": [
    "G = np.array([2,4,8,10,2,3,5,7,8])\n",
    "G= G.reshape(3,3)\n",
    "np.hstack(G) \n",
    "np.vstack(G)\n",
    "np.tile(2,5)\n",
    "G[2,1]"
   ]
  },
  {
   "cell_type": "code",
   "execution_count": 40,
   "id": "1f318b1f-aa69-4af6-a7f4-c489f87e4914",
   "metadata": {},
   "outputs": [],
   "source": [
    "##As long as row number is the same, operations are done columnwise vice versa for column number. i.e if one quantity is the same, the other has to be 1. \n",
    "## a = 4 x 1 and b 4 x 2 will work, but 4 x 1 and 4 x 3 would not. "
   ]
  },
  {
   "cell_type": "code",
   "execution_count": 28,
   "id": "41519419-225c-4cef-ac40-faeb637acd11",
   "metadata": {},
   "outputs": [],
   "source": [
    "## @ is used for matrix multiplication\n",
    "## or np.dot(matrix1,matrix2)"
   ]
  },
  {
   "cell_type": "code",
   "execution_count": 170,
   "id": "8d2b1568-548c-4321-838c-98501a1d04cc",
   "metadata": {},
   "outputs": [],
   "source": [
    "X = np.array([[0,0],[0,0]])\n",
    "Y = np.array([[1,1],[1,1]])\n",
    "XY = np.hstack([X,Y])\n",
    "XY = np.vstack([XY,XY[:,::-1]])\n",
    "XY =np.tile(XY, (10,10))"
   ]
  },
  {
   "cell_type": "code",
   "execution_count": 172,
   "id": "c3f11c7c-177c-422a-a1ec-5de353e8075e",
   "metadata": {},
   "outputs": [
    {
     "data": {
      "text/plain": [
       "<matplotlib.image.AxesImage at 0x16886c69100>"
      ]
     },
     "execution_count": 172,
     "metadata": {},
     "output_type": "execute_result"
    },
    {
     "data": {
      "image/png": "[encoded data removed]",
      "text/plain": [
       "<Figure size 640x480 with 1 Axes>"
      ]
     },
     "metadata": {},
     "output_type": "display_data"
    }
   ],
   "source": [
    "plt.imshow(XY)"
   ]
  },
  {
   "cell_type": "code",
   "execution_count": 118,
   "id": "9695127b-38e2-4d5d-bf13-01ca0838589b",
   "metadata": {},
   "outputs": [],
   "source": [
    "A = np.arange(1,13)"
   ]
  },
  {
   "cell_type": "code",
   "execution_count": 108,
   "id": "0f8f654d-6385-4dfa-a7c7-69062719d981",
   "metadata": {},
   "outputs": [
    {
     "data": {
      "text/plain": [
       "array([ 1,  2,  3,  4,  5,  6,  7,  8,  9, 10, 11, 12, 13])"
      ]
     },
     "execution_count": 108,
     "metadata": {},
     "output_type": "execute_result"
    }
   ],
   "source": [
    "A"
   ]
  },
  {
   "cell_type": "code",
   "execution_count": 120,
   "id": "b57e5d88-e395-44e9-9fca-d298c44c30c6",
   "metadata": {},
   "outputs": [],
   "source": [
    "A = A.reshape(4,3)"
   ]
  },
  {
   "cell_type": "code",
   "execution_count": 122,
   "id": "a5dab2a3-4def-42c2-985f-65d895021baf",
   "metadata": {},
   "outputs": [
    {
     "data": {
      "text/plain": [
       "array([[ 1,  2,  3],\n",
       "       [ 4,  5,  6],\n",
       "       [ 7,  8,  9],\n",
       "       [10, 11, 12]])"
      ]
     },
     "execution_count": 122,
     "metadata": {},
     "output_type": "execute_result"
    }
   ],
   "source": [
    "A"
   ]
  },
  {
   "cell_type": "code",
   "execution_count": 136,
   "id": "72ea99ed-ea81-40ad-9d31-eabe82d36109",
   "metadata": {},
   "outputs": [
    {
     "data": {
      "text/plain": [
       "array([[ 6,  5,  4],\n",
       "       [ 9,  8,  7],\n",
       "       [12, 11, 10]])"
      ]
     },
     "execution_count": 136,
     "metadata": {},
     "output_type": "execute_result"
    }
   ],
   "source": [
    "A[1:,::-1]"
   ]
  },
  {
   "cell_type": "code",
   "execution_count": 146,
   "id": "b9f7ae44-4a20-4e4c-bdf9-bf5fccf6be9b",
   "metadata": {},
   "outputs": [
    {
     "data": {
      "text/plain": [
       "array([[10, 11, 12]])"
      ]
     },
     "execution_count": 146,
     "metadata": {},
     "output_type": "execute_result"
    }
   ],
   "source": [
    "A[-1:,::]"
   ]
  },
  {
   "cell_type": "code",
   "execution_count": null,
   "id": "c31a790f-6917-4830-b3fc-266c3287f90a",
   "metadata": {},
   "outputs": [],
   "source": []
  }
 ],
 "metadata": {
  "kernelspec": {
   "display_name": "Python 3 (ipykernel)",
   "language": "python",
   "name": "python3"
  },
  "language_info": {
   "codemirror_mode": {
    "name": "ipython",
    "version": 3
   },
   "file_extension": ".py",
   "mimetype": "text/x-python",
   "name": "python",
   "nbconvert_exporter": "python",
   "pygments_lexer": "ipython3",
   "version": "3.12.7"
  }
 },
 "nbformat": 4,
 "nbformat_minor": 5
}
