{
 "cells": [
  {
   "cell_type": "markdown",
   "id": "d9481b8d-5cda-4298-a79e-80f723bc7787",
   "metadata": {},
   "source": [
    "Given the list `x` below, write python code to find elements divisible by 3"
   ]
  },
  {
   "cell_type": "code",
   "execution_count": 2,
   "id": "d517f1ae-819b-4730-8f2a-cb6c0cd1fa5c",
   "metadata": {},
   "outputs": [
    {
     "name": "stdout",
     "output_type": "stream",
     "text": [
      "[1, 2, 3, 4, 5, 6, 7, 8, 9, 10, 11, 12, 13, 14, 15, 16, 17, 18, 19, 20, 21, 22, 23, 24, 25, 26, 27, 28, 29, 30, 31, 32, 33, 34, 35, 36, 37, 38, 39, 40, 41, 42, 43, 44, 45, 46, 47, 48, 49, 50, 51, 52, 53, 54, 55, 56, 57, 58, 59, 60, 61, 62, 63, 64, 65, 66, 67, 68, 69, 70, 71, 72, 73, 74, 75, 76, 77, 78, 79, 80, 81, 82, 83, 84, 85, 86, 87, 88, 89, 90, 91, 92, 93, 94, 95, 96, 97, 98, 99]\n"
     ]
    }
   ],
   "source": [
    "x = list(range(1,100))\n",
    "print(x)"
   ]
  },
  {
   "cell_type": "code",
   "execution_count": 8,
   "id": "7df8c2e3-207f-4000-b5d1-989e2a08c68a",
   "metadata": {},
   "outputs": [
    {
     "name": "stdout",
     "output_type": "stream",
     "text": [
      "[3, 6, 9, 12, 15, 18, 21, 24, 27, 30, 33, 36, 39, 42, 45, 48, 51, 54, 57, 60, 63, 66, 69, 72, 75, 78, 81, 84, 87, 90, 93, 96, 99]\n"
     ]
    }
   ],
   "source": [
    "y =[]\n",
    "for i in x:\n",
    "    if i%3!=0:\n",
    "        continue\n",
    "    y.append(i)\n",
    "\n",
    "print(y)\n",
    "    "
   ]
  },
  {
   "cell_type": "markdown",
   "id": "3a260697-5ab0-4730-b192-3c68c8b06a2f",
   "metadata": {},
   "source": [
    "Using the same x, find elements divisible by 3 but not by 2"
   ]
  },
  {
   "cell_type": "code",
   "execution_count": 10,
   "id": "74234eb5-6688-473c-816e-a9f15739395a",
   "metadata": {},
   "outputs": [
    {
     "name": "stdout",
     "output_type": "stream",
     "text": [
      "[3, 9, 15, 21, 27, 33, 39, 45, 51, 57, 63, 69, 75, 81, 87, 93, 99]\n"
     ]
    }
   ],
   "source": [
    "y2=[]\n",
    "for num in x:\n",
    "    if num % 3==0 and num%2!=0:\n",
    "        y2.append(num)\n",
    "print(y2)"
   ]
  },
  {
   "cell_type": "markdown",
   "id": "7b40f372-293e-4a66-95ef-b73c9458af97",
   "metadata": {},
   "source": [
    "Write a python function that takes a line $mx+c$ and returns the $x-$intercept of the line. Determine and explain what the inputs will be. \n",
    "Call your function `line`"
   ]
  },
  {
   "cell_type": "code",
   "execution_count": 11,
   "id": "8c308afd-045e-44bc-9835-b8ddd6439a16",
   "metadata": {},
   "outputs": [],
   "source": [
    "def line(m,c):\n",
    "    if m == 0:\n",
    "        return None\n",
    "    return -c/m\n",
    "    "
   ]
  },
  {
   "cell_type": "markdown",
   "id": "597e1fc0-936e-40f9-a80a-a1c73ac637c3",
   "metadata": {},
   "source": [
    "Consider sets A and B as lists. The intersection of the two sets will be the elements common to both lists. The python keyword `in` used in for loops is also a logical operator the returns True if an element is in a list. For the given lists A and B, create a list C that is the intersection of the two lists (sets)"
   ]
  },
  {
   "cell_type": "code",
   "execution_count": 21,
   "id": "ed6f2378-4f70-4b82-94e7-2b0c7e3ec26e",
   "metadata": {},
   "outputs": [
    {
     "name": "stdout",
     "output_type": "stream",
     "text": [
      "[2, 5, 8]\n"
     ]
    }
   ],
   "source": [
    "A = [1,2,3,4,5,6,7,8]\n",
    "B = [2,5,8,9,10,11,12,13,14]\n",
    "C=[]\n",
    "for i in A and B:\n",
    "    if i in A and B:\n",
    "        C.append(i)\n",
    "print(C)"
   ]
  },
  {
   "cell_type": "markdown",
   "id": "f9326c85-e284-4262-a176-6d059190717c",
   "metadata": {},
   "source": [
    "A set is a data structure with the requirement that all elements are unique. We can therefore consider a list with unique elements as a set. Create a python function `isSet` that takes a list as input as returns True if all elements are unique else it returns False"
   ]
  },
  {
   "cell_type": "code",
   "execution_count": null,
   "id": "6dc7f70c-9e7f-498d-904f-95c766bfd6b8",
   "metadata": {},
   "outputs": [],
   "source": []
  }
 ],
 "metadata": {
  "kernelspec": {
   "display_name": "Python 3 (ipykernel)",
   "language": "python",
   "name": "python3"
  },
  "language_info": {
   "codemirror_mode": {
    "name": "ipython",
    "version": 3
   },
   "file_extension": ".py",
   "mimetype": "text/x-python",
   "name": "python",
   "nbconvert_exporter": "python",
   "pygments_lexer": "ipython3",
   "version": "3.12.7"
  }
 },
 "nbformat": 4,
 "nbformat_minor": 5
}
