{
 "cells": [
  {
   "cell_type": "markdown",
   "id": "f8f51e22-6174-470b-9207-3a5733ade3de",
   "metadata": {},
   "source": [
    "## Numpy"
   ]
  },
  {
   "cell_type": "markdown",
   "id": "321e9ea0-8f1e-495a-b4d4-4b961937fed1",
   "metadata": {},
   "source": [
    "### Array Creation"
   ]
  },
  {
   "cell_type": "code",
   "execution_count": 147,
   "id": "25daa7bc-7a78-426b-938e-1e17d25b7359",
   "metadata": {},
   "outputs": [],
   "source": [
    "import numpy as np\n",
    "import matplotlib.pyplot as plt"
   ]
  },
  {
   "cell_type": "code",
   "execution_count": 161,
   "id": "101554a1-5b71-4d2b-b7f8-edcbc3d39993",
   "metadata": {},
   "outputs": [
    {
     "data": {
      "text/plain": [
       "\u001b[1;31mType:\u001b[0m        module\n",
       "\u001b[1;31mString form:\u001b[0m <module 'numpy' from 'C:\\\\Users\\\\HP\\\\anaconda3\\\\Lib\\\\site-packages\\\\numpy\\\\__init__.py'>\n",
       "\u001b[1;31mFile:\u001b[0m        c:\\users\\hp\\anaconda3\\lib\\site-packages\\numpy\\__init__.py\n",
       "\u001b[1;31mDocstring:\u001b[0m  \n",
       "NumPy\n",
       "=====\n",
       "\n",
       "Provides\n",
       "  1. An array object of arbitrary homogeneous items\n",
       "  2. Fast mathematical operations over arrays\n",
       "  3. Linear Algebra, Fourier Transforms, Random Number Generation\n",
       "\n",
       "How to use the documentation\n",
       "----------------------------\n",
       "Documentation is available in two forms: docstrings provided\n",
       "with the code, and a loose standing reference guide, available from\n",
       "`the NumPy homepage <https://numpy.org>`_.\n",
       "\n",
       "We recommend exploring the docstrings using\n",
       "`IPython <https://ipython.org>`_, an advanced Python shell with\n",
       "TAB-completion and introspection capabilities.  See below for further\n",
       "instructions.\n",
       "\n",
       "The docstring examples assume that `numpy` has been imported as ``np``::\n",
       "\n",
       "  >>> import numpy as np\n",
       "\n",
       "Code snippets are indicated by three greater-than signs::\n",
       "\n",
       "  >>> x = 42\n",
       "  >>> x = x + 1\n",
       "\n",
       "Use the built-in ``help`` function to view a function's docstring::\n",
       "\n",
       "  >>> help(np.sort)\n",
       "  ... # doctest: +SKIP\n",
       "\n",
       "For some objects, ``np.info(obj)`` may provide additional help.  This is\n",
       "particularly true if you see the line \"Help on ufunc object:\" at the top\n",
       "of the help() page.  Ufuncs are implemented in C, not Python, for speed.\n",
       "The native Python help() does not know how to view their help, but our\n",
       "np.info() function does.\n",
       "\n",
       "To search for documents containing a keyword, do::\n",
       "\n",
       "  >>> np.lookfor('keyword')\n",
       "  ... # doctest: +SKIP\n",
       "\n",
       "General-purpose documents like a glossary and help on the basic concepts\n",
       "of numpy are available under the ``doc`` sub-module::\n",
       "\n",
       "  >>> from numpy import doc\n",
       "  >>> help(doc)\n",
       "  ... # doctest: +SKIP\n",
       "\n",
       "Available subpackages\n",
       "---------------------\n",
       "lib\n",
       "    Basic functions used by several sub-packages.\n",
       "random\n",
       "    Core Random Tools\n",
       "linalg\n",
       "    Core Linear Algebra Tools\n",
       "fft\n",
       "    Core FFT routines\n",
       "polynomial\n",
       "    Polynomial tools\n",
       "testing\n",
       "    NumPy testing tools\n",
       "distutils\n",
       "    Enhancements to distutils with support for\n",
       "    Fortran compilers support and more  (for Python <= 3.11).\n",
       "\n",
       "Utilities\n",
       "---------\n",
       "test\n",
       "    Run numpy unittests\n",
       "show_config\n",
       "    Show numpy build configuration\n",
       "matlib\n",
       "    Make everything matrices.\n",
       "__version__\n",
       "    NumPy version string\n",
       "\n",
       "Viewing documentation using IPython\n",
       "-----------------------------------\n",
       "\n",
       "Start IPython and import `numpy` usually under the alias ``np``: `import\n",
       "numpy as np`.  Then, directly past or use the ``%cpaste`` magic to paste\n",
       "examples into the shell.  To see which functions are available in `numpy`,\n",
       "type ``np.<TAB>`` (where ``<TAB>`` refers to the TAB key), or use\n",
       "``np.*cos*?<ENTER>`` (where ``<ENTER>`` refers to the ENTER key) to narrow\n",
       "down the list.  To view the docstring for a function, use\n",
       "``np.cos?<ENTER>`` (to view the docstring) and ``np.cos??<ENTER>`` (to view\n",
       "the source code).\n",
       "\n",
       "Copies vs. in-place operation\n",
       "-----------------------------\n",
       "Most of the functions in `numpy` return a copy of the array argument\n",
       "(e.g., `np.sort`).  In-place versions of these functions are often\n",
       "available as array methods, i.e. ``x = np.array([1,2,3]); x.sort()``.\n",
       "Exceptions to this rule are documented."
      ]
     },
     "metadata": {},
     "output_type": "display_data"
    }
   ],
   "source": [
    "plt.scatter?\n",
    "np?\n"
   ]
  },
  {
   "cell_type": "code",
   "execution_count": 159,
   "id": "612c829e-24bf-4503-b567-5f22229e5ade",
   "metadata": {
    "jupyter": {
     "source_hidden": true
    }
   },
   "outputs": [
    {
     "data": {
      "text/plain": [
       "\u001b[1;31mSignature:\u001b[0m\n",
       "\u001b[0mplt\u001b[0m\u001b[1;33m.\u001b[0m\u001b[0mbar\u001b[0m\u001b[1;33m(\u001b[0m\u001b[1;33m\n",
       "\u001b[0m    \u001b[0mx\u001b[0m\u001b[1;33m:\u001b[0m \u001b[1;34m'float | ArrayLike'\u001b[0m\u001b[1;33m,\u001b[0m\u001b[1;33m\n",
       "\u001b[0m    \u001b[0mheight\u001b[0m\u001b[1;33m:\u001b[0m \u001b[1;34m'float | ArrayLike'\u001b[0m\u001b[1;33m,\u001b[0m\u001b[1;33m\n",
       "\u001b[0m    \u001b[0mwidth\u001b[0m\u001b[1;33m:\u001b[0m \u001b[1;34m'float | ArrayLike'\u001b[0m \u001b[1;33m=\u001b[0m \u001b[1;36m0.8\u001b[0m\u001b[1;33m,\u001b[0m\u001b[1;33m\n",
       "\u001b[0m    \u001b[0mbottom\u001b[0m\u001b[1;33m:\u001b[0m \u001b[1;34m'float | ArrayLike | None'\u001b[0m \u001b[1;33m=\u001b[0m \u001b[1;32mNone\u001b[0m\u001b[1;33m,\u001b[0m\u001b[1;33m\n",
       "\u001b[0m    \u001b[1;33m*\u001b[0m\u001b[1;33m,\u001b[0m\u001b[1;33m\n",
       "\u001b[0m    \u001b[0malign\u001b[0m\u001b[1;33m:\u001b[0m \u001b[1;34m\"Literal['center', 'edge']\"\u001b[0m \u001b[1;33m=\u001b[0m \u001b[1;34m'center'\u001b[0m\u001b[1;33m,\u001b[0m\u001b[1;33m\n",
       "\u001b[0m    \u001b[0mdata\u001b[0m\u001b[1;33m=\u001b[0m\u001b[1;32mNone\u001b[0m\u001b[1;33m,\u001b[0m\u001b[1;33m\n",
       "\u001b[0m    \u001b[1;33m**\u001b[0m\u001b[0mkwargs\u001b[0m\u001b[1;33m,\u001b[0m\u001b[1;33m\n",
       "\u001b[0m\u001b[1;33m)\u001b[0m \u001b[1;33m->\u001b[0m \u001b[1;34m'BarContainer'\u001b[0m\u001b[1;33m\u001b[0m\u001b[1;33m\u001b[0m\u001b[0m\n",
       "\u001b[1;31mDocstring:\u001b[0m\n",
       "Make a bar plot.\n",
       "\n",
       "The bars are positioned at *x* with the given *align*\\ment. Their\n",
       "dimensions are given by *height* and *width*. The vertical baseline\n",
       "is *bottom* (default 0).\n",
       "\n",
       "Many parameters can take either a single value applying to all bars\n",
       "or a sequence of values, one for each bar.\n",
       "\n",
       "Parameters\n",
       "----------\n",
       "x : float or array-like\n",
       "    The x coordinates of the bars. See also *align* for the\n",
       "    alignment of the bars to the coordinates.\n",
       "\n",
       "height : float or array-like\n",
       "    The height(s) of the bars.\n",
       "\n",
       "    Note that if *bottom* has units (e.g. datetime), *height* should be in\n",
       "    units that are a difference from the value of *bottom* (e.g. timedelta).\n",
       "\n",
       "width : float or array-like, default: 0.8\n",
       "    The width(s) of the bars.\n",
       "\n",
       "    Note that if *x* has units (e.g. datetime), then *width* should be in\n",
       "    units that are a difference (e.g. timedelta) around the *x* values.\n",
       "\n",
       "bottom : float or array-like, default: 0\n",
       "    The y coordinate(s) of the bottom side(s) of the bars.\n",
       "\n",
       "    Note that if *bottom* has units, then the y-axis will get a Locator and\n",
       "    Formatter appropriate for the units (e.g. dates, or categorical).\n",
       "\n",
       "align : {'center', 'edge'}, default: 'center'\n",
       "    Alignment of the bars to the *x* coordinates:\n",
       "\n",
       "    - 'center': Center the base on the *x* positions.\n",
       "    - 'edge': Align the left edges of the bars with the *x* positions.\n",
       "\n",
       "    To align the bars on the right edge pass a negative *width* and\n",
       "    ``align='edge'``.\n",
       "\n",
       "Returns\n",
       "-------\n",
       "`.BarContainer`\n",
       "    Container with all the bars and optionally errorbars.\n",
       "\n",
       "Other Parameters\n",
       "----------------\n",
       "color : :mpltype:`color` or list of :mpltype:`color`, optional\n",
       "    The colors of the bar faces.\n",
       "\n",
       "edgecolor : :mpltype:`color` or list of :mpltype:`color`, optional\n",
       "    The colors of the bar edges.\n",
       "\n",
       "linewidth : float or array-like, optional\n",
       "    Width of the bar edge(s). If 0, don't draw edges.\n",
       "\n",
       "tick_label : str or list of str, optional\n",
       "    The tick labels of the bars.\n",
       "    Default: None (Use default numeric labels.)\n",
       "\n",
       "label : str or list of str, optional\n",
       "    A single label is attached to the resulting `.BarContainer` as a\n",
       "    label for the whole dataset.\n",
       "    If a list is provided, it must be the same length as *x* and\n",
       "    labels the individual bars. Repeated labels are not de-duplicated\n",
       "    and will cause repeated label entries, so this is best used when\n",
       "    bars also differ in style (e.g., by passing a list to *color*.)\n",
       "\n",
       "xerr, yerr : float or array-like of shape(N,) or shape(2, N), optional\n",
       "    If not *None*, add horizontal / vertical errorbars to the bar tips.\n",
       "    The values are +/- sizes relative to the data:\n",
       "\n",
       "    - scalar: symmetric +/- values for all bars\n",
       "    - shape(N,): symmetric +/- values for each bar\n",
       "    - shape(2, N): Separate - and + values for each bar. First row\n",
       "      contains the lower errors, the second row contains the upper\n",
       "      errors.\n",
       "    - *None*: No errorbar. (Default)\n",
       "\n",
       "    See :doc:`/gallery/statistics/errorbar_features` for an example on\n",
       "    the usage of *xerr* and *yerr*.\n",
       "\n",
       "ecolor : :mpltype:`color` or list of :mpltype:`color`, default: 'black'\n",
       "    The line color of the errorbars.\n",
       "\n",
       "capsize : float, default: :rc:`errorbar.capsize`\n",
       "   The length of the error bar caps in points.\n",
       "\n",
       "error_kw : dict, optional\n",
       "    Dictionary of keyword arguments to be passed to the\n",
       "    `~.Axes.errorbar` method. Values of *ecolor* or *capsize* defined\n",
       "    here take precedence over the independent keyword arguments.\n",
       "\n",
       "log : bool, default: False\n",
       "    If *True*, set the y-axis to be log scale.\n",
       "\n",
       "data : indexable object, optional\n",
       "    If given, all parameters also accept a string ``s``, which is\n",
       "    interpreted as ``data[s]`` (unless this raises an exception).\n",
       "\n",
       "**kwargs : `.Rectangle` properties\n",
       "\n",
       "Properties:\n",
       "    agg_filter: a filter function, which takes a (m, n, 3) float array and a dpi value, and returns a (m, n, 3) array and two offsets from the bottom left corner of the image\n",
       "    alpha: scalar or None\n",
       "    angle: unknown\n",
       "    animated: bool\n",
       "    antialiased or aa: bool or None\n",
       "    bounds: (left, bottom, width, height)\n",
       "    capstyle: `.CapStyle` or {'butt', 'projecting', 'round'}\n",
       "    clip_box: `~matplotlib.transforms.BboxBase` or None\n",
       "    clip_on: bool\n",
       "    clip_path: Patch or (Path, Transform) or None\n",
       "    color: :mpltype:`color`\n",
       "    edgecolor or ec: :mpltype:`color` or None\n",
       "    facecolor or fc: :mpltype:`color` or None\n",
       "    figure: `~matplotlib.figure.Figure`\n",
       "    fill: bool\n",
       "    gid: str\n",
       "    hatch: {'/', '\\\\', '|', '-', '+', 'x', 'o', 'O', '.', '*'}\n",
       "    height: unknown\n",
       "    in_layout: bool\n",
       "    joinstyle: `.JoinStyle` or {'miter', 'round', 'bevel'}\n",
       "    label: object\n",
       "    linestyle or ls: {'-', '--', '-.', ':', '', (offset, on-off-seq), ...}\n",
       "    linewidth or lw: float or None\n",
       "    mouseover: bool\n",
       "    path_effects: list of `.AbstractPathEffect`\n",
       "    picker: None or bool or float or callable\n",
       "    rasterized: bool\n",
       "    sketch_params: (scale: float, length: float, randomness: float)\n",
       "    snap: bool or None\n",
       "    transform: `~matplotlib.transforms.Transform`\n",
       "    url: str\n",
       "    visible: bool\n",
       "    width: unknown\n",
       "    x: unknown\n",
       "    xy: (float, float)\n",
       "    y: unknown\n",
       "    zorder: float\n",
       "\n",
       "See Also\n",
       "--------\n",
       "barh : Plot a horizontal bar plot.\n",
       "\n",
       "Notes\n",
       "-----\n",
       "\n",
       ".. note::\n",
       "\n",
       "    This is the :ref:`pyplot wrapper <pyplot_interface>` for `.axes.Axes.bar`.\n",
       "\n",
       "Stacked bars can be achieved by passing individual *bottom* values per\n",
       "bar. See :doc:`/gallery/lines_bars_and_markers/bar_stacked`.\n",
       "\u001b[1;31mFile:\u001b[0m      c:\\users\\hp\\anaconda3\\lib\\site-packages\\matplotlib\\pyplot.py\n",
       "\u001b[1;31mType:\u001b[0m      function"
      ]
     },
     "metadata": {},
     "output_type": "display_data"
    }
   ],
   "source": [
    "a = [1,2,3,4,5,6,7,8,9]\n",
    "lebron = {\"Kwame\":40, \"Jones\":30}\n",
    "lebron[\"Kwame\"]\n",
    "plt.bar?\n",
    "\n",
    "\n"
   ]
  },
  {
   "cell_type": "code",
   "execution_count": 36,
   "id": "439edc0d-bf32-4dcd-bf21-c03c2b845a54",
   "metadata": {},
   "outputs": [],
   "source": [
    "b = np.array(a)\n",
    "\n",
    "\n"
   ]
  },
  {
   "cell_type": "code",
   "execution_count": 38,
   "id": "adf9f8a8-0d88-475b-a722-d9e986bba56c",
   "metadata": {},
   "outputs": [
    {
     "data": {
      "text/plain": [
       "array([1, 2, 3, 4, 5, 6, 7, 8, 9])"
      ]
     },
     "execution_count": 38,
     "metadata": {},
     "output_type": "execute_result"
    }
   ],
   "source": [
    "b"
   ]
  },
  {
   "cell_type": "code",
   "execution_count": 40,
   "id": "9a40c648-e158-440e-92f6-fc6344ad1590",
   "metadata": {},
   "outputs": [
    {
     "data": {
      "text/plain": [
       "[5, 10, 15, 20, 25, 30, 35, 40, 45]"
      ]
     },
     "execution_count": 40,
     "metadata": {},
     "output_type": "execute_result"
    }
   ],
   "source": [
    "[5*i for i in a]"
   ]
  },
  {
   "cell_type": "code",
   "execution_count": 42,
   "id": "11b9094f-04d2-4b8e-b100-bcb7069a8cd7",
   "metadata": {},
   "outputs": [
    {
     "data": {
      "text/plain": [
       "array([ 6,  7,  8,  9, 10, 11, 12, 13, 14])"
      ]
     },
     "execution_count": 42,
     "metadata": {},
     "output_type": "execute_result"
    }
   ],
   "source": [
    "b + 5"
   ]
  },
  {
   "cell_type": "code",
   "execution_count": 44,
   "id": "f1415f18-4d14-466e-bc13-a7afef5eff32",
   "metadata": {},
   "outputs": [
    {
     "data": {
      "text/plain": [
       "array([0.5, 1. , 1.5, 2. , 2.5, 3. , 3.5, 4. , 4.5])"
      ]
     },
     "execution_count": 44,
     "metadata": {},
     "output_type": "execute_result"
    }
   ],
   "source": [
    "b / 2"
   ]
  },
  {
   "cell_type": "code",
   "execution_count": 48,
   "id": "58de56df-ff67-48f9-8c46-b9799f4678a2",
   "metadata": {},
   "outputs": [
    {
     "data": {
      "text/plain": [
       "array([1, 0, 1, 0, 1, 0, 1, 0, 1], dtype=int32)"
      ]
     },
     "execution_count": 48,
     "metadata": {},
     "output_type": "execute_result"
    }
   ],
   "source": [
    "b % 2"
   ]
  },
  {
   "cell_type": "code",
   "execution_count": 50,
   "id": "7e80c5df-56a7-40b2-87db-aa3245c0d9e9",
   "metadata": {},
   "outputs": [
    {
     "data": {
      "text/plain": [
       "[2, 5, 8]"
      ]
     },
     "execution_count": 50,
     "metadata": {},
     "output_type": "execute_result"
    }
   ],
   "source": [
    "list(range(2,10,3))"
   ]
  },
  {
   "cell_type": "code",
   "execution_count": 52,
   "id": "8878d61c-4945-4dd1-949c-ea7552b95a2e",
   "metadata": {},
   "outputs": [
    {
     "data": {
      "text/plain": [
       "array([2. , 2.5, 3. , 3.5, 4. , 4.5, 5. , 5.5, 6. , 6.5, 7. , 7.5, 8. ,\n",
       "       8.5, 9. , 9.5])"
      ]
     },
     "execution_count": 52,
     "metadata": {},
     "output_type": "execute_result"
    }
   ],
   "source": [
    "np.arange(2,10,0.5)"
   ]
  },
  {
   "cell_type": "code",
   "execution_count": 54,
   "id": "019c9c9b-291c-4cca-bd28-f9179962d524",
   "metadata": {},
   "outputs": [
    {
     "data": {
      "text/plain": [
       "array([1, 2, 3, 1, 2, 3, 1, 2, 3])"
      ]
     },
     "execution_count": 54,
     "metadata": {},
     "output_type": "execute_result"
    }
   ],
   "source": [
    "np.array([1,2,3,1,2,3,1,2,3])"
   ]
  },
  {
   "cell_type": "code",
   "execution_count": 56,
   "id": "5ab36753-42d2-4c27-9af0-b5d54a801502",
   "metadata": {},
   "outputs": [],
   "source": [
    "x = np.arange(0,2*np.pi,.001)"
   ]
  },
  {
   "cell_type": "code",
   "execution_count": 58,
   "id": "85157e31-2a80-46aa-8ebc-bef33e3cdc0b",
   "metadata": {},
   "outputs": [],
   "source": [
    "y = np.cos(x)"
   ]
  },
  {
   "cell_type": "code",
   "execution_count": 60,
   "id": "b61a1c58-7183-4ee7-9824-30172409c3a2",
   "metadata": {},
   "outputs": [],
   "source": [
    "import matplotlib.pyplot as plt"
   ]
  },
  {
   "cell_type": "code",
   "execution_count": 61,
   "id": "232a8ac5-d202-4aef-ab3e-ea3384df0235",
   "metadata": {},
   "outputs": [
    {
     "data": {
      "text/plain": [
       "[<matplotlib.lines.Line2D at 0x219d87543b0>]"
      ]
     },
     "execution_count": 61,
     "metadata": {},
     "output_type": "execute_result"
    },
    {
     "data": {
      "image/png": "[encoded data removed]",
      "text/plain": [
       "<Figure size 640x480 with 1 Axes>"
      ]
     },
     "metadata": {},
     "output_type": "display_data"
    }
   ],
   "source": [
    "plt.plot(x,y)"
   ]
  },
  {
   "cell_type": "code",
   "execution_count": 62,
   "id": "fff8eb07-c354-419b-897e-5403f93a5f7e",
   "metadata": {},
   "outputs": [
    {
     "data": {
      "text/plain": [
       "array([ 0. ,  0.5,  1. ,  1.5,  2. ,  2.5,  3. ,  3.5,  4. ,  4.5,  5. ,\n",
       "        5.5,  6. ,  6.5,  7. ,  7.5,  8. ,  8.5,  9. ,  9.5, 10. ])"
      ]
     },
     "execution_count": 62,
     "metadata": {},
     "output_type": "execute_result"
    }
   ],
   "source": [
    "x= np.linspace(0,10,21)\n",
    "x"
   ]
  },
  {
   "cell_type": "code",
   "execution_count": 63,
   "id": "6a21f457-e62b-41b6-9211-00b47f140edd",
   "metadata": {},
   "outputs": [
    {
     "data": {
      "text/plain": [
       "array([  6.,   8.,  11.,  15.,  20.,  26.,  33.,  41.,  50.,  60.,  71.,\n",
       "        83.,  96., 110., 125., 141., 158., 176., 195., 215., 236.])"
      ]
     },
     "execution_count": 63,
     "metadata": {},
     "output_type": "execute_result"
    }
   ],
   "source": [
    "y = 2*x**2 + 3*x +6\n",
    "y"
   ]
  },
  {
   "cell_type": "code",
   "execution_count": 65,
   "id": "195edccf-057f-4f2d-872c-7faa6a9dd016",
   "metadata": {},
   "outputs": [
    {
     "data": {
      "text/plain": [
       "array([0., 0., 0., 0., 0., 0., 0., 0., 0., 0., 0., 0., 0., 0., 0., 0., 0.,\n",
       "       0., 0., 0., 0.])"
      ]
     },
     "execution_count": 65,
     "metadata": {},
     "output_type": "execute_result"
    }
   ],
   "source": [
    "np.zeros(21)"
   ]
  },
  {
   "cell_type": "code",
   "execution_count": 66,
   "id": "ad4adfa1-90d7-4323-ae99-81cfafb23b25",
   "metadata": {},
   "outputs": [
    {
     "data": {
      "text/plain": [
       "array([1., 1., 1., 1., 1., 1., 1., 1., 1., 1., 1., 1., 1., 1., 1.])"
      ]
     },
     "execution_count": 66,
     "metadata": {},
     "output_type": "execute_result"
    }
   ],
   "source": [
    "np.ones(15)"
   ]
  },
  {
   "cell_type": "code",
   "execution_count": null,
   "id": "f6922174-f291-407f-a726-e075c5e0d181",
   "metadata": {},
   "outputs": [],
   "source": [
    " "
   ]
  },
  {
   "cell_type": "code",
   "execution_count": 70,
   "id": "7b65c6f9-03fc-463f-9f32-0913efa029ea",
   "metadata": {},
   "outputs": [
    {
     "data": {
      "text/plain": [
       "array([15., 15., 15., 15., 15., 15., 15., 15., 15., 15., 15., 15., 15.,\n",
       "       15., 15., 15., 15., 15., 15., 15., 15.])"
      ]
     },
     "execution_count": 70,
     "metadata": {},
     "output_type": "execute_result"
    }
   ],
   "source": [
    "np.ones(21)*15"
   ]
  },
  {
   "cell_type": "code",
   "execution_count": 72,
   "id": "41d8af9a-56d7-4f37-9f9d-e4341b5dab38",
   "metadata": {},
   "outputs": [
    {
     "data": {
      "text/plain": [
       "array([15., 15., 15., 15., 15., 15., 15., 15., 15., 15., 15., 15., 15.,\n",
       "       15., 15., 15., 15., 15., 15., 15., 15.])"
      ]
     },
     "execution_count": 72,
     "metadata": {},
     "output_type": "execute_result"
    }
   ],
   "source": [
    "np.array([i*15 for i in np.ones(21)])"
   ]
  },
  {
   "cell_type": "code",
   "execution_count": 75,
   "id": "c3827f23-39aa-4583-9605-71b83f8f9f2b",
   "metadata": {},
   "outputs": [
    {
     "data": {
      "text/plain": [
       "array([[1., 0., 0., 0., 0., 0.],\n",
       "       [0., 1., 0., 0., 0., 0.],\n",
       "       [0., 0., 1., 0., 0., 0.],\n",
       "       [0., 0., 0., 1., 0., 0.],\n",
       "       [0., 0., 0., 0., 1., 0.],\n",
       "       [0., 0., 0., 0., 0., 1.]])"
      ]
     },
     "execution_count": 75,
     "metadata": {},
     "output_type": "execute_result"
    }
   ],
   "source": [
    "np.identity(6)"
   ]
  },
  {
   "cell_type": "code",
   "execution_count": 28,
   "id": "18d46f32-0bdb-441e-bf3b-37bfa7f8f294",
   "metadata": {},
   "outputs": [],
   "source": [
    "I = np.eye(7)"
   ]
  },
  {
   "cell_type": "code",
   "execution_count": 30,
   "id": "9cb5939e-b263-4fa7-9489-774f928ad31f",
   "metadata": {},
   "outputs": [
    {
     "ename": "NameError",
     "evalue": "name 'x' is not defined",
     "output_type": "error",
     "traceback": [
      "\u001b[1;31m---------------------------------------------------------------------------\u001b[0m",
      "\u001b[1;31mNameError\u001b[0m                                 Traceback (most recent call last)",
      "Cell \u001b[1;32mIn[30], line 1\u001b[0m\n\u001b[1;32m----> 1\u001b[0m \u001b[38;5;28mlen\u001b[39m(\u001b[43mx\u001b[49m)\n",
      "\u001b[1;31mNameError\u001b[0m: name 'x' is not defined"
     ]
    }
   ],
   "source": [
    "len(x)"
   ]
  },
  {
   "cell_type": "code",
   "execution_count": 32,
   "id": "aa4d30be-6cc3-4f1f-8bb9-c32098b268ec",
   "metadata": {},
   "outputs": [
    {
     "data": {
      "text/plain": [
       "6284"
      ]
     },
     "execution_count": 32,
     "metadata": {},
     "output_type": "execute_result"
    }
   ],
   "source": [
    "x.size"
   ]
  },
  {
   "cell_type": "code",
   "execution_count": 79,
   "id": "bdc74140-1f91-4187-9edc-8611825e2a97",
   "metadata": {},
   "outputs": [
    {
     "data": {
      "text/plain": [
       "49"
      ]
     },
     "execution_count": 79,
     "metadata": {},
     "output_type": "execute_result"
    }
   ],
   "source": [
    "I.size"
   ]
  },
  {
   "cell_type": "code",
   "execution_count": 81,
   "id": "0d285472-c369-4a51-ae66-0a9d817a5d83",
   "metadata": {},
   "outputs": [
    {
     "data": {
      "text/plain": [
       "(7, 7)"
      ]
     },
     "execution_count": 81,
     "metadata": {},
     "output_type": "execute_result"
    }
   ],
   "source": [
    "I.shape"
   ]
  },
  {
   "cell_type": "code",
   "execution_count": 35,
   "id": "faa0cbec-ab00-4002-9683-84ea709b931d",
   "metadata": {},
   "outputs": [
    {
     "data": {
      "text/plain": [
       "(6284,)"
      ]
     },
     "execution_count": 35,
     "metadata": {},
     "output_type": "execute_result"
    }
   ],
   "source": [
    "x.shape"
   ]
  },
  {
   "cell_type": "code",
   "execution_count": 36,
   "id": "c68cd706-024a-4c5b-9c2b-2bd1467c71c0",
   "metadata": {},
   "outputs": [
    {
     "data": {
      "text/plain": [
       "dtype('float64')"
      ]
     },
     "execution_count": 36,
     "metadata": {},
     "output_type": "execute_result"
    }
   ],
   "source": [
    "x.dtype"
   ]
  },
  {
   "cell_type": "code",
   "execution_count": 37,
   "id": "40b29316-046d-406c-8e1e-5747b7fbe857",
   "metadata": {},
   "outputs": [
    {
     "data": {
      "text/plain": [
       "dtype('float64')"
      ]
     },
     "execution_count": 37,
     "metadata": {},
     "output_type": "execute_result"
    }
   ],
   "source": [
    "I.dtype"
   ]
  },
  {
   "cell_type": "code",
   "execution_count": 41,
   "id": "8388f804-c9a7-478d-a59e-5e2a21b895bd",
   "metadata": {},
   "outputs": [
    {
     "data": {
      "text/plain": [
       "array([0., 1., 2., 3., 4., 5., 6., 7., 8.])"
      ]
     },
     "execution_count": 41,
     "metadata": {},
     "output_type": "execute_result"
    }
   ],
   "source": [
    "np.arange(0,9,dtype=float)"
   ]
  },
  {
   "cell_type": "code",
   "execution_count": 44,
   "id": "9ab9328d-287b-4d2d-8086-1853047155a5",
   "metadata": {},
   "outputs": [],
   "source": [
    "z = np.arange(0,9)"
   ]
  },
  {
   "cell_type": "code",
   "execution_count": 45,
   "id": "42f3dd2b-ac6a-4e3b-8a12-cf6f64b5bc78",
   "metadata": {},
   "outputs": [
    {
     "data": {
      "text/plain": [
       "array([0, 1, 2, 3, 4, 5, 6, 7, 8])"
      ]
     },
     "execution_count": 45,
     "metadata": {},
     "output_type": "execute_result"
    }
   ],
   "source": [
    "z"
   ]
  },
  {
   "cell_type": "code",
   "execution_count": 46,
   "id": "5a0506cb-0e16-4329-8ea7-c6f8c5683429",
   "metadata": {},
   "outputs": [
    {
     "data": {
      "text/plain": [
       "array([ True, False,  True, False,  True, False,  True, False,  True])"
      ]
     },
     "execution_count": 46,
     "metadata": {},
     "output_type": "execute_result"
    }
   ],
   "source": [
    "z%2 == 0"
   ]
  },
  {
   "cell_type": "code",
   "execution_count": 47,
   "id": "64a98db8-c35c-4844-88d7-3b58a321a9f9",
   "metadata": {},
   "outputs": [
    {
     "data": {
      "text/plain": [
       "[0, 2, 4, 6, 8]"
      ]
     },
     "execution_count": 47,
     "metadata": {},
     "output_type": "execute_result"
    }
   ],
   "source": [
    "[i for i in z if i%2==0]"
   ]
  },
  {
   "cell_type": "code",
   "execution_count": 48,
   "id": "ded20c49-dd73-4ba5-89ea-64611880a6b7",
   "metadata": {},
   "outputs": [
    {
     "data": {
      "text/plain": [
       "array([0, 2, 4, 6, 8])"
      ]
     },
     "execution_count": 48,
     "metadata": {},
     "output_type": "execute_result"
    }
   ],
   "source": [
    "z[z%2==0]"
   ]
  },
  {
   "cell_type": "code",
   "execution_count": 49,
   "id": "7713e165-4f1d-4848-8845-ddf7856b4b87",
   "metadata": {},
   "outputs": [],
   "source": [
    "z[z%2==0] = -99"
   ]
  },
  {
   "cell_type": "code",
   "execution_count": 50,
   "id": "5de6e227-cde8-4755-ae0c-92557ef6c7fe",
   "metadata": {},
   "outputs": [
    {
     "data": {
      "text/plain": [
       "array([-99,   1, -99,   3, -99,   5, -99,   7, -99])"
      ]
     },
     "execution_count": 50,
     "metadata": {},
     "output_type": "execute_result"
    }
   ],
   "source": [
    "z"
   ]
  },
  {
   "cell_type": "code",
   "execution_count": 56,
   "id": "da9eab14-3286-48ab-80a4-738e9b599cc7",
   "metadata": {},
   "outputs": [
    {
     "data": {
      "text/plain": [
       "array([False,  True, False,  True, False,  True, False,  True, False])"
      ]
     },
     "execution_count": 56,
     "metadata": {},
     "output_type": "execute_result"
    }
   ],
   "source": [
    "(z%2 != 0) & (z != -99)"
   ]
  },
  {
   "cell_type": "code",
   "execution_count": 85,
   "id": "5c324b48-d66d-49c4-8ac2-e42e3c79f6da",
   "metadata": {},
   "outputs": [],
   "source": [
    "A = np.arange(1,13)\n",
    "B = np.array([10,20,30,40])\n",
    "C = np.array([5])\n",
    "D = np.array([5,10,15])"
   ]
  },
  {
   "cell_type": "code",
   "execution_count": 87,
   "id": "39cf4cc2-203f-4c2d-94cf-c1c8c6983f00",
   "metadata": {},
   "outputs": [
    {
     "data": {
      "text/plain": [
       "array([ 1,  2,  3,  4,  5,  6,  7,  8,  9, 10, 11, 12])"
      ]
     },
     "execution_count": 87,
     "metadata": {},
     "output_type": "execute_result"
    }
   ],
   "source": [
    "A"
   ]
  },
  {
   "cell_type": "code",
   "execution_count": 4,
   "id": "bfe472b9-cf71-46ec-b087-9055941b6096",
   "metadata": {},
   "outputs": [
    {
     "data": {
      "text/plain": [
       "array([5, 5, 5, 5])"
      ]
     },
     "execution_count": 4,
     "metadata": {},
     "output_type": "execute_result"
    }
   ],
   "source": [
    "np.array([1,2,3,4])+np.array([4,3,2,1])"
   ]
  },
  {
   "cell_type": "code",
   "execution_count": 5,
   "id": "6142285a-107f-4388-a6dd-f3ffd974f0df",
   "metadata": {},
   "outputs": [
    {
     "data": {
      "text/plain": [
       "array([13, 12, 11, 10])"
      ]
     },
     "execution_count": 5,
     "metadata": {},
     "output_type": "execute_result"
    }
   ],
   "source": [
    "7 + np.array([6,5,4,3])"
   ]
  },
  {
   "cell_type": "code",
   "execution_count": 101,
   "id": "dabad6c5-5fb7-4451-bbd6-5688261d97d9",
   "metadata": {},
   "outputs": [
    {
     "data": {
      "text/plain": [
       "array([[ 1,  4,  7, 10],\n",
       "       [ 2,  5,  8, 11],\n",
       "       [ 3,  6,  9, 12]])"
      ]
     },
     "execution_count": 101,
     "metadata": {},
     "output_type": "execute_result"
    }
   ],
   "source": [
    "A.reshape((4,3)).T"
   ]
  },
  {
   "cell_type": "code",
   "execution_count": 23,
   "id": "8be3c1e6-1954-4a3c-ac60-50a80cd5ae00",
   "metadata": {},
   "outputs": [],
   "source": [
    "A = A.reshape((4,3))"
   ]
  },
  {
   "cell_type": "code",
   "execution_count": 111,
   "id": "94c654ac-eaf2-470e-b18c-586d637e675d",
   "metadata": {},
   "outputs": [],
   "source": [
    "B2 = B.reshape((4,1))\n",
    "B1 = B.reshape((1,4))\n",
    "D1 = D.reshape((1,3))\n",
    "D2 = D.reshape((3,1))"
   ]
  },
  {
   "cell_type": "code",
   "execution_count": 135,
   "id": "c9db4f9b-8a11-491f-8f20-fdf42b094ab9",
   "metadata": {},
   "outputs": [
    {
     "data": {
      "text/plain": [
       "array([[3000]])"
      ]
     },
     "execution_count": 135,
     "metadata": {},
     "output_type": "execute_result"
    }
   ],
   "source": [
    "B1 @ B2"
   ]
  },
  {
   "cell_type": "code",
   "execution_count": 113,
   "id": "f83192e7-61ef-49dc-bc9f-cd03679d7528",
   "metadata": {},
   "outputs": [],
   "source": [
    "E = np.array([[2,4],[6,8],[10,12],[14,16]])"
   ]
  },
  {
   "cell_type": "code",
   "execution_count": 114,
   "id": "52f00738-a000-4a53-8a66-07d8949b064e",
   "metadata": {},
   "outputs": [
    {
     "data": {
      "text/plain": [
       "array([[ 2,  4],\n",
       "       [ 6,  8],\n",
       "       [10, 12],\n",
       "       [14, 16]])"
      ]
     },
     "execution_count": 114,
     "metadata": {},
     "output_type": "execute_result"
    }
   ],
   "source": [
    "E"
   ]
  },
  {
   "cell_type": "code",
   "execution_count": null,
   "id": "c3ce1646-00a5-40bf-997a-6bf611ac6b56",
   "metadata": {},
   "outputs": [],
   "source": []
  },
  {
   "cell_type": "code",
   "execution_count": 121,
   "id": "a128be7c-7d97-4e13-9602-24de31d27a49",
   "metadata": {},
   "outputs": [
    {
     "data": {
      "text/plain": [
       "array([ 5, 10, 15])"
      ]
     },
     "execution_count": 121,
     "metadata": {},
     "output_type": "execute_result"
    }
   ],
   "source": [
    "D"
   ]
  },
  {
   "cell_type": "code",
   "execution_count": 123,
   "id": "b620efe2-6ab6-4c5d-bc8e-9235f498cbec",
   "metadata": {},
   "outputs": [
    {
     "data": {
      "text/plain": [
       "array([ 1,  2,  3,  4,  5,  6,  7,  8,  9, 10, 11, 12])"
      ]
     },
     "execution_count": 123,
     "metadata": {},
     "output_type": "execute_result"
    }
   ],
   "source": [
    "A"
   ]
  },
  {
   "cell_type": "code",
   "execution_count": 125,
   "id": "6ff01d8c-44ea-4aa2-abda-43d1c2595dec",
   "metadata": {},
   "outputs": [
    {
     "data": {
      "text/plain": [
       "array([[ 5],\n",
       "       [10],\n",
       "       [15]])"
      ]
     },
     "execution_count": 125,
     "metadata": {},
     "output_type": "execute_result"
    }
   ],
   "source": [
    "D2"
   ]
  },
  {
   "cell_type": "code",
   "execution_count": 127,
   "id": "a5ce5cf1-69ea-4138-a78d-c23e48d7ef61",
   "metadata": {},
   "outputs": [
    {
     "ename": "ValueError",
     "evalue": "matmul: Input operand 1 has a mismatch in its core dimension 0, with gufunc signature (n?,k),(k,m?)->(n?,m?) (size 3 is different from 12)",
     "output_type": "error",
     "traceback": [
      "\u001b[1;31m---------------------------------------------------------------------------\u001b[0m",
      "\u001b[1;31mValueError\u001b[0m                                Traceback (most recent call last)",
      "Cell \u001b[1;32mIn[127], line 1\u001b[0m\n\u001b[1;32m----> 1\u001b[0m \u001b[43mA\u001b[49m\u001b[43m \u001b[49m\u001b[38;5;241;43m@\u001b[39;49m\u001b[43m \u001b[49m\u001b[43mD2\u001b[49m\n",
      "\u001b[1;31mValueError\u001b[0m: matmul: Input operand 1 has a mismatch in its core dimension 0, with gufunc signature (n?,k),(k,m?)->(n?,m?) (size 3 is different from 12)"
     ]
    }
   ],
   "source": [
    "A @ D2"
   ]
  },
  {
   "cell_type": "code",
   "execution_count": 133,
   "id": "ed70afeb-0300-4170-aa28-6622ded2dc45",
   "metadata": {},
   "outputs": [
    {
     "ename": "ValueError",
     "evalue": "shapes (12,) and (3,1) not aligned: 12 (dim 0) != 3 (dim 0)",
     "output_type": "error",
     "traceback": [
      "\u001b[1;31m---------------------------------------------------------------------------\u001b[0m",
      "\u001b[1;31mValueError\u001b[0m                                Traceback (most recent call last)",
      "Cell \u001b[1;32mIn[133], line 1\u001b[0m\n\u001b[1;32m----> 1\u001b[0m \u001b[43mnp\u001b[49m\u001b[38;5;241;43m.\u001b[39;49m\u001b[43mdot\u001b[49m\u001b[43m(\u001b[49m\u001b[43mA\u001b[49m\u001b[43m,\u001b[49m\u001b[43mD2\u001b[49m\u001b[43m)\u001b[49m\n",
      "\u001b[1;31mValueError\u001b[0m: shapes (12,) and (3,1) not aligned: 12 (dim 0) != 3 (dim 0)"
     ]
    }
   ],
   "source": [
    "np.dot(A,D2)"
   ]
  },
  {
   "cell_type": "code",
   "execution_count": 129,
   "id": "fcdbf660-becc-46e8-97b7-51829f7ae8a1",
   "metadata": {},
   "outputs": [
    {
     "data": {
      "text/plain": [
       "array([[10],\n",
       "       [20],\n",
       "       [30],\n",
       "       [40]])"
      ]
     },
     "execution_count": 129,
     "metadata": {},
     "output_type": "execute_result"
    }
   ],
   "source": [
    "B2"
   ]
  },
  {
   "cell_type": "code",
   "execution_count": 43,
   "id": "dbc90a94-660d-4e1f-b773-33065d1dbae9",
   "metadata": {},
   "outputs": [
    {
     "data": {
      "text/plain": [
       "array([[10, 10, 10, 10],\n",
       "       [20, 20, 20, 20],\n",
       "       [30, 30, 30, 30],\n",
       "       [40, 40, 40, 40]])"
      ]
     },
     "execution_count": 43,
     "metadata": {},
     "output_type": "execute_result"
    }
   ],
   "source": [
    "np.hstack([B2,B2,B2,B2])"
   ]
  },
  {
   "cell_type": "code",
   "execution_count": 131,
   "id": "c2ac2f48-8ce2-4681-b33a-c19e93e8e677",
   "metadata": {},
   "outputs": [
    {
     "data": {
      "text/plain": [
       "array([[10],\n",
       "       [20],\n",
       "       [30],\n",
       "       [40],\n",
       "       [10],\n",
       "       [20],\n",
       "       [30],\n",
       "       [40],\n",
       "       [10],\n",
       "       [20],\n",
       "       [30],\n",
       "       [40],\n",
       "       [10],\n",
       "       [20],\n",
       "       [30],\n",
       "       [40]])"
      ]
     },
     "execution_count": 131,
     "metadata": {},
     "output_type": "execute_result"
    }
   ],
   "source": [
    "np.vstack([B2,B2,B2,B2])"
   ]
  },
  {
   "cell_type": "code",
   "execution_count": 141,
   "id": "6fbeeedb-d0b1-477d-bf2b-abc54ef7dd88",
   "metadata": {},
   "outputs": [],
   "source": [
    "X = np.array([[0,0],[0,0]])\n",
    "Y = np.array([[1,1],[1,1]])\n",
    "XY = np.hstack([X,Y])\n",
    "XY = np.vstack([XY,XY[:,::-1]])\n",
    "XY = np.tile(XY,(10,10))"
   ]
  },
  {
   "cell_type": "code",
   "execution_count": 142,
   "id": "3846e571-e41b-4fc4-83b1-f2ec63b0d8cf",
   "metadata": {},
   "outputs": [
    {
     "data": {
      "text/plain": [
       "\u001b[1;31mSignature:\u001b[0m       \u001b[0mnp\u001b[0m\u001b[1;33m.\u001b[0m\u001b[0mtile\u001b[0m\u001b[1;33m(\u001b[0m\u001b[0mA\u001b[0m\u001b[1;33m,\u001b[0m \u001b[0mreps\u001b[0m\u001b[1;33m)\u001b[0m\u001b[1;33m\u001b[0m\u001b[1;33m\u001b[0m\u001b[0m\n",
       "\u001b[1;31mCall signature:\u001b[0m  \u001b[0mnp\u001b[0m\u001b[1;33m.\u001b[0m\u001b[0mtile\u001b[0m\u001b[1;33m(\u001b[0m\u001b[1;33m*\u001b[0m\u001b[0margs\u001b[0m\u001b[1;33m,\u001b[0m \u001b[1;33m**\u001b[0m\u001b[0mkwargs\u001b[0m\u001b[1;33m)\u001b[0m\u001b[1;33m\u001b[0m\u001b[1;33m\u001b[0m\u001b[0m\n",
       "\u001b[1;31mType:\u001b[0m            _ArrayFunctionDispatcher\n",
       "\u001b[1;31mString form:\u001b[0m     <function tile at 0x00000219D5137BA0>\n",
       "\u001b[1;31mFile:\u001b[0m            c:\\users\\hp\\anaconda3\\lib\\site-packages\\numpy\\lib\\shape_base.py\n",
       "\u001b[1;31mDocstring:\u001b[0m      \n",
       "Construct an array by repeating A the number of times given by reps.\n",
       "\n",
       "If `reps` has length ``d``, the result will have dimension of\n",
       "``max(d, A.ndim)``.\n",
       "\n",
       "If ``A.ndim < d``, `A` is promoted to be d-dimensional by prepending new\n",
       "axes. So a shape (3,) array is promoted to (1, 3) for 2-D replication,\n",
       "or shape (1, 1, 3) for 3-D replication. If this is not the desired\n",
       "behavior, promote `A` to d-dimensions manually before calling this\n",
       "function.\n",
       "\n",
       "If ``A.ndim > d``, `reps` is promoted to `A`.ndim by pre-pending 1's to it.\n",
       "Thus for an `A` of shape (2, 3, 4, 5), a `reps` of (2, 2) is treated as\n",
       "(1, 1, 2, 2).\n",
       "\n",
       "Note : Although tile may be used for broadcasting, it is strongly\n",
       "recommended to use numpy's broadcasting operations and functions.\n",
       "\n",
       "Parameters\n",
       "----------\n",
       "A : array_like\n",
       "    The input array.\n",
       "reps : array_like\n",
       "    The number of repetitions of `A` along each axis.\n",
       "\n",
       "Returns\n",
       "-------\n",
       "c : ndarray\n",
       "    The tiled output array.\n",
       "\n",
       "See Also\n",
       "--------\n",
       "repeat : Repeat elements of an array.\n",
       "broadcast_to : Broadcast an array to a new shape\n",
       "\n",
       "Examples\n",
       "--------\n",
       ">>> a = np.array([0, 1, 2])\n",
       ">>> np.tile(a, 2)\n",
       "array([0, 1, 2, 0, 1, 2])\n",
       ">>> np.tile(a, (2, 2))\n",
       "array([[0, 1, 2, 0, 1, 2],\n",
       "       [0, 1, 2, 0, 1, 2]])\n",
       ">>> np.tile(a, (2, 1, 2))\n",
       "array([[[0, 1, 2, 0, 1, 2]],\n",
       "       [[0, 1, 2, 0, 1, 2]]])\n",
       "\n",
       ">>> b = np.array([[1, 2], [3, 4]])\n",
       ">>> np.tile(b, 2)\n",
       "array([[1, 2, 1, 2],\n",
       "       [3, 4, 3, 4]])\n",
       ">>> np.tile(b, (2, 1))\n",
       "array([[1, 2],\n",
       "       [3, 4],\n",
       "       [1, 2],\n",
       "       [3, 4]])\n",
       "\n",
       ">>> c = np.array([1,2,3,4])\n",
       ">>> np.tile(c,(4,1))\n",
       "array([[1, 2, 3, 4],\n",
       "       [1, 2, 3, 4],\n",
       "       [1, 2, 3, 4],\n",
       "       [1, 2, 3, 4]])\n",
       "\u001b[1;31mClass docstring:\u001b[0m\n",
       "Class to wrap functions with checks for __array_function__ overrides.\n",
       "\n",
       "All arguments are required, and can only be passed by position.\n",
       "\n",
       "Parameters\n",
       "----------\n",
       "dispatcher : function or None\n",
       "    The dispatcher function that returns a single sequence-like object\n",
       "    of all arguments relevant.  It must have the same signature (except\n",
       "    the default values) as the actual implementation.\n",
       "    If ``None``, this is a ``like=`` dispatcher and the\n",
       "    ``_ArrayFunctionDispatcher`` must be called with ``like`` as the\n",
       "    first (additional and positional) argument.\n",
       "implementation : function\n",
       "    Function that implements the operation on NumPy arrays without\n",
       "    overrides.  Arguments passed calling the ``_ArrayFunctionDispatcher``\n",
       "    will be forwarded to this (and the ``dispatcher``) as if using\n",
       "    ``*args, **kwargs``.\n",
       "\n",
       "Attributes\n",
       "----------\n",
       "_implementation : function\n",
       "    The original implementation passed in."
      ]
     },
     "metadata": {},
     "output_type": "display_data"
    }
   ],
   "source": [
    "np.tile?"
   ]
  },
  {
   "cell_type": "code",
   "execution_count": 145,
   "id": "0a39a3f2-60be-4122-a41d-7d8ef1a8ca4f",
   "metadata": {},
   "outputs": [
    {
     "data": {
      "text/plain": [
       "array([[1, 1],\n",
       "       [1, 1]])"
      ]
     },
     "execution_count": 145,
     "metadata": {},
     "output_type": "execute_result"
    }
   ],
   "source": [
    "Y"
   ]
  },
  {
   "cell_type": "code",
   "execution_count": 73,
   "id": "21e5e3b2-32c0-47ac-b65e-5aba4034597c",
   "metadata": {},
   "outputs": [],
   "source": [
    "import matplotlib.pyplot as plt"
   ]
  },
  {
   "cell_type": "code",
   "execution_count": 75,
   "id": "70486497-a8ed-4fe6-917a-030e0a742911",
   "metadata": {},
   "outputs": [
    {
     "data": {
      "text/plain": [
       "<matplotlib.image.AxesImage at 0x1b524d41160>"
      ]
     },
     "execution_count": 75,
     "metadata": {},
     "output_type": "execute_result"
    },
    {
     "data": {
      "image/png": "[encoded data removed]",
      "text/plain": [
       "<Figure size 640x480 with 1 Axes>"
      ]
     },
     "metadata": {},
     "output_type": "display_data"
    }
   ],
   "source": [
    "plt.imshow(XY,cmap='gray')"
   ]
  },
  {
   "cell_type": "code",
   "execution_count": 58,
   "id": "532ac200-e42a-45f0-9b9f-e159ca5d81a4",
   "metadata": {},
   "outputs": [
    {
     "data": {
      "text/plain": [
       "array([[ 1,  2,  3],\n",
       "       [ 4,  5,  6],\n",
       "       [ 7,  8,  9],\n",
       "       [10, 11, 12]])"
      ]
     },
     "execution_count": 58,
     "metadata": {},
     "output_type": "execute_result"
    }
   ],
   "source": [
    "A"
   ]
  },
  {
   "cell_type": "code",
   "execution_count": 66,
   "id": "b26b3a72-f398-47fa-915f-1048cb5dd1fc",
   "metadata": {},
   "outputs": [
    {
     "data": {
      "text/plain": [
       "array([[ 3,  2,  1],\n",
       "       [ 6,  5,  4],\n",
       "       [ 9,  8,  7],\n",
       "       [12, 11, 10]])"
      ]
     },
     "execution_count": 66,
     "metadata": {},
     "output_type": "execute_result"
    }
   ],
   "source": [
    "A[:,::-1]"
   ]
  },
  {
   "cell_type": "code",
   "execution_count": null,
   "id": "b26dc3ee-a186-4cb6-8b4a-704e2c871192",
   "metadata": {},
   "outputs": [],
   "source": []
  },
  {
   "cell_type": "code",
   "execution_count": 67,
   "id": "54ea9e43-399b-4b1e-bb1e-c3eb2dbc825d",
   "metadata": {},
   "outputs": [
    {
     "data": {
      "text/plain": [
       "array([[ 3,  2,  1],\n",
       "       [ 6,  5,  4],\n",
       "       [ 9,  8,  7],\n",
       "       [12, 11, 10]])"
      ]
     },
     "execution_count": 67,
     "metadata": {},
     "output_type": "execute_result"
    }
   ],
   "source": [
    "np.fliplr(A)"
   ]
  },
  {
   "cell_type": "code",
   "execution_count": 68,
   "id": "95c49117-a189-4c80-8056-8286f4a663e5",
   "metadata": {},
   "outputs": [
    {
     "data": {
      "text/plain": [
       "array([[10, 11, 12],\n",
       "       [ 7,  8,  9],\n",
       "       [ 4,  5,  6],\n",
       "       [ 1,  2,  3]])"
      ]
     },
     "execution_count": 68,
     "metadata": {},
     "output_type": "execute_result"
    }
   ],
   "source": [
    "A[::-1,:]"
   ]
  },
  {
   "cell_type": "code",
   "execution_count": 69,
   "id": "5cdc9f29-8c9e-4b24-857d-3a86dd540857",
   "metadata": {},
   "outputs": [
    {
     "data": {
      "text/plain": [
       "array([[12, 11, 10],\n",
       "       [ 9,  8,  7],\n",
       "       [ 6,  5,  4],\n",
       "       [ 3,  2,  1]])"
      ]
     },
     "execution_count": 69,
     "metadata": {},
     "output_type": "execute_result"
    }
   ],
   "source": [
    "A[::-1,::-1]"
   ]
  }
 ],
 "metadata": {
  "kernelspec": {
   "display_name": "Python 3 (ipykernel)",
   "language": "python",
   "name": "python3"
  },
  "language_info": {
   "codemirror_mode": {
    "name": "ipython",
    "version": 3
   },
   "file_extension": ".py",
   "mimetype": "text/x-python",
   "name": "python",
   "nbconvert_exporter": "python",
   "pygments_lexer": "ipython3",
   "version": "3.12.7"
  }
 },
 "nbformat": 4,
 "nbformat_minor": 5
}
