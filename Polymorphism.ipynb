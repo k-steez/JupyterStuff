{
 "cells": [
  {
   "cell_type": "code",
   "execution_count": null,
   "id": "1ee278e2-a24e-4484-9c1a-d01e8fbddfba",
   "metadata": {},
   "outputs": [],
   "source": []
  },
  {
   "cell_type": "code",
   "execution_count": 105,
   "id": "0be69e40-5906-44d7-a63b-f2c8cab6bd67",
   "metadata": {},
   "outputs": [
    {
     "name": "stdout",
     "output_type": "stream",
     "text": [
      "75\n",
      "Car Sedan can travel 1125km with current fuel level\n"
     ]
    }
   ],
   "source": [
    "class Vehicle:\n",
    "    def __init__(self, vehicle_id, model, fuel_level):\n",
    "        self.vehicle_id = vehicle_id\n",
    "        self.model = model\n",
    "        self.fuel_level = fuel_level\n",
    "\n",
    "    def refuel(self, topup):\n",
    "        self.fuel_level += topup\n",
    "\n",
    "    def calculate_range(self):\n",
    "        pass\n",
    "\n",
    "\n",
    "class Car(Vehicle):\n",
    "    def __init__(self, vehicle_id, model, fuel_level, fuel_efficiency):\n",
    "        super().__init__(vehicle_id, model, fuel_level)\n",
    "        self._fuel_efficiency = fuel_efficiency\n",
    "\n",
    "    def calculate_range(self):\n",
    "        _range = self.fuel_level * self._fuel_efficiency\n",
    "        return \"Car\" + \" \" + self.model + \" \" + \"can travel\" + \" \" + str(_range) + \"km with current fuel level\"\n",
    "\n",
    "\n",
    "class TransportationManager:\n",
    "    def operate_vehicle(self, vehicle):\n",
    "        return vehicle.calculate_range()\n",
    "\n",
    "Car1 = Car(\"C001\", \"Sedan\", 50, 15)\n",
    "Car1.refuel(25)\n",
    "print(Car1.fuel_level)  \n",
    "\n",
    "Car2 = TransportationManager()\n",
    "print(Car2.operate_vehicle(Car1))  \n"
   ]
  },
  {
   "cell_type": "code",
   "execution_count": null,
   "id": "d999164e-0d33-4faa-9b4e-79172ff219c9",
   "metadata": {},
   "outputs": [],
   "source": []
  }
 ],
 "metadata": {
  "kernelspec": {
   "display_name": "Python 3 (ipykernel)",
   "language": "python",
   "name": "python3"
  },
  "language_info": {
   "codemirror_mode": {
    "name": "ipython",
    "version": 3
   },
   "file_extension": ".py",
   "mimetype": "text/x-python",
   "name": "python",
   "nbconvert_exporter": "python",
   "pygments_lexer": "ipython3",
   "version": "3.12.7"
  }
 },
 "nbformat": 4,
 "nbformat_minor": 5
}
