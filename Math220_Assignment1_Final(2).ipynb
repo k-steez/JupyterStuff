{
 "cells": [
  {
   "cell_type": "markdown",
   "id": "8f8a3910-9285-46b5-9a15-1a3ad0ff27f2",
   "metadata": {
    "deletable": false,
    "editable": false
   },
   "source": [
    "<center><b>Math220: Introductory Programming for Computational Mathematics.</b></center>\n",
    "<center><b>Assignment 1</b></center>"
   ]
  },
  {
   "cell_type": "markdown",
   "id": "9c7706f7-c551-4b45-a3a9-fad13208c37b",
   "metadata": {
    "deletable": false,
    "editable": false
   },
   "source": [
    "Create a function **`avg`** that takes as input 2 numbers and returns the average of the numbers"
   ]
  },
  {
   "cell_type": "code",
   "execution_count": 8,
   "id": "Q1",
   "metadata": {
    "deletable": false,
    "editable": true
   },
   "outputs": [],
   "source": [
    "#Answer\n",
    "def avg(a,b):\n",
    "    return (a+b)/2\n"
   ]
  },
  {
   "cell_type": "code",
   "execution_count": 10,
   "id": "3e0bfaaf-b26e-4f44-8e74-9a2379b6ec93",
   "metadata": {},
   "outputs": [
    {
     "data": {
      "text/plain": [
       "4.5"
      ]
     },
     "execution_count": 10,
     "metadata": {},
     "output_type": "execute_result"
    }
   ],
   "source": [
    "avg(4,5)"
   ]
  },
  {
   "cell_type": "markdown",
   "id": "5132e82b-032a-485b-af0e-bc156b60a5bc",
   "metadata": {
    "deletable": false,
    "editable": false
   },
   "source": [
    "The harmonic mean of two positive numbers $x_1$ and $x_2$ is the quantity $$ \\frac{2}{\\displaystyle{\\frac{1}{x_1}}+\\displaystyle{\\frac{1}{x_2}}}$$ Create a function **`hmean`** that takes two numbers and returns the harmonic mean. If the arguments are nonpositive, it should return nothing."
   ]
  },
  {
   "cell_type": "code",
   "execution_count": 3,
   "id": "Q2",
   "metadata": {
    "deletable": false,
    "editable": true
   },
   "outputs": [],
   "source": [
    "#Answer\n",
    "def hmean(x1,x2):\n",
    "    mean = 2 /(1/x1 + 1/x2)\n",
    "    if x1 > 0 and x2 > 0:\n",
    "        return mean\n",
    "    else:\n",
    "        return "
   ]
  },
  {
   "cell_type": "markdown",
   "id": "df4b6206-7e69-49d2-8d56-caec30d204bf",
   "metadata": {
    "deletable": false,
    "editable": false
   },
   "source": [
    "The geometric mean of two nonnegative numbers $x_1$ and $x_2$ is the quantity $$\\sqrt{x_1x_2}.$$ Create a function **`geomean`** that takes as input two numbers and returns the geometric mean if all numbers are nonnegative else it returns nothing."
   ]
  },
  {
   "cell_type": "code",
   "execution_count": 60,
   "id": "Q3",
   "metadata": {
    "deletable": false,
    "editable": true
   },
   "outputs": [],
   "source": [
    "#Answer\n",
    "def geomean(x1,x2):\n",
    "    gmean = (x1*x2)**0.5\n",
    "    if x1 > 0 and x2 > 0:\n",
    "        return gmean\n",
    "    else:\n",
    "        return"
   ]
  },
  {
   "cell_type": "markdown",
   "id": "36df454a-fdc1-4dea-add0-bc92098ea1cb",
   "metadata": {
    "deletable": false,
    "editable": false
   },
   "source": [
    "We learnt in class how the `int` function can be used to cast a number to an integer. Create a function **`fractional`** that takes as input a number, discards the integer part and returns the fractional part of the number. "
   ]
  },
  {
   "cell_type": "code",
   "execution_count": 4,
   "id": "Q4",
   "metadata": {
    "deletable": false,
    "editable": true
   },
   "outputs": [],
   "source": [
    "#Answer\n",
    "def fractional(n):\n",
    "    fraction = float(n) - int(n)\n",
    "    return fraction"
   ]
  },
  {
   "cell_type": "code",
   "execution_count": 6,
   "id": "7bfa20ea-7f1d-46a7-a0bb-7a11adff5168",
   "metadata": {},
   "outputs": [
    {
     "data": {
      "text/plain": [
       "0.0"
      ]
     },
     "execution_count": 6,
     "metadata": {},
     "output_type": "execute_result"
    }
   ],
   "source": [
    "fractional(2)"
   ]
  },
  {
   "cell_type": "code",
   "execution_count": null,
   "id": "828bd917-4ae8-451c-a26c-72889ceccfcf",
   "metadata": {},
   "outputs": [],
   "source": []
  }
 ],
 "metadata": {
  "kernelspec": {
   "display_name": "Python 3 (ipykernel)",
   "language": "python",
   "name": "python3"
  },
  "language_info": {
   "codemirror_mode": {
    "name": "ipython",
    "version": 3
   },
   "file_extension": ".py",
   "mimetype": "text/x-python",
   "name": "python",
   "nbconvert_exporter": "python",
   "pygments_lexer": "ipython3",
   "version": "3.12.7"
  }
 },
 "nbformat": 4,
 "nbformat_minor": 5
}
