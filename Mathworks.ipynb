{
 "cells": [
  {
   "cell_type": "code",
   "execution_count": 1,
   "id": "ad7f2243-ae23-41c1-9d5d-16c8e5e4ed99",
   "metadata": {},
   "outputs": [
    {
     "name": "stdout",
     "output_type": "stream",
     "text": [
      "[1, 2, 3, 4, 5, 6, 7, 8, 9, 10, 11, 12, 13, 14, 15, 16, 17, 18, 19, 20, 21, 22, 23, 24, 25, 26, 27, 28, 29, 30, 31, 32, 33, 34, 35, 36, 37, 38, 39, 40, 41, 42, 43, 44, 45, 46, 47, 48, 49, 50, 51, 52, 53, 54, 55, 56, 57, 58, 59, 60, 61, 62, 63, 64, 65, 66, 67, 68, 69, 70, 71, 72, 73, 74, 75, 76, 77, 78, 79, 80, 81, 82, 83, 84, 85, 86, 87, 88, 89, 90, 91, 92, 93, 94, 95, 96, 97, 98, 99]\n"
     ]
    }
   ],
   "source": [
    "x = list(range(1,100))\n",
    "print(x)"
   ]
  },
  {
   "cell_type": "code",
   "execution_count": 33,
   "id": "118fd91e-e5c1-40a0-9074-bd786b12f7d5",
   "metadata": {},
   "outputs": [],
   "source": [
    "new_x = [x for x in range(1,100) if x % 3 == 0]\n"
   ]
  },
  {
   "cell_type": "code",
   "execution_count": null,
   "id": "15985d56-fac7-4d25-951d-bd6311002a31",
   "metadata": {},
   "outputs": [],
   "source": []
  },
  {
   "cell_type": "code",
   "execution_count": 37,
   "id": "b2dcb004-b83b-4861-92d1-01134f7a59d4",
   "metadata": {},
   "outputs": [
    {
     "data": {
      "text/plain": [
       "[3, 9, 15, 21, 27, 33, 39, 45, 51, 57, 63, 69, 75, 81, 87, 93, 99]"
      ]
     },
     "execution_count": 37,
     "metadata": {},
     "output_type": "execute_result"
    }
   ],
   "source": [
    "new_y = [x for x in range(1,100) if x % 3 == 0 and x%2 != 0]\n",
    "new_y"
   ]
  },
  {
   "cell_type": "code",
   "execution_count": 61,
   "id": "07a480fc-17a3-4548-ba63-d8be4482c895",
   "metadata": {},
   "outputs": [],
   "source": [
    "def line(m,c,y):\n",
    "    if y == 0:\n",
    "        x = -c/m\n",
    "        return x\n",
    "    "
   ]
  },
  {
   "cell_type": "code",
   "execution_count": 90,
   "id": "83cbfa1f-9171-4c2d-9873-994e0874d9b0",
   "metadata": {},
   "outputs": [
    {
     "data": {
      "text/plain": [
       "[2, 5, 8]"
      ]
     },
     "execution_count": 90,
     "metadata": {},
     "output_type": "execute_result"
    }
   ],
   "source": [
    "\n",
    "list_c = []\n",
    "for i in range(len(list_a)):\n",
    "    for a in range(len(list_b)):\n",
    "        if list_a[i] == list_b[a]:\n",
    "             list_c.append(list_a[i])\n",
    "\n",
    "\n",
    "list_c\n",
    "\n",
    "\n",
    "\n",
    "    "
   ]
  },
  {
   "cell_type": "code",
   "execution_count": null,
   "id": "22660f09-54d0-4e36-b98f-11e27fa21a80",
   "metadata": {},
   "outputs": [],
   "source": []
  },
  {
   "cell_type": "code",
   "execution_count": 135,
   "id": "95572efe-27db-480d-b6ca-e1b641a7a9ae",
   "metadata": {},
   "outputs": [],
   "source": [
    "def isSet(listset):\n",
    "    for element in listset:\n",
    "        if listset.count(element) > 1:\n",
    "            return False\n",
    "    return True\n",
    "            "
   ]
  },
  {
   "cell_type": "code",
   "execution_count": 149,
   "id": "974f60a9-dc49-441d-aa3e-d7870e2b81cd",
   "metadata": {},
   "outputs": [
    {
     "data": {
      "text/plain": [
       "True"
      ]
     },
     "execution_count": 149,
     "metadata": {},
     "output_type": "execute_result"
    }
   ],
   "source": [
    "isSet([\"Dog\",\"China\",\"Gym\",\"Paint\"])"
   ]
  },
  {
   "cell_type": "code",
   "execution_count": null,
   "id": "6fbc3e4f-4847-4d47-84d2-2a70478673b1",
   "metadata": {},
   "outputs": [],
   "source": []
  }
 ],
 "metadata": {
  "kernelspec": {
   "display_name": "Python 3 (ipykernel)",
   "language": "python",
   "name": "python3"
  },
  "language_info": {
   "codemirror_mode": {
    "name": "ipython",
    "version": 3
   },
   "file_extension": ".py",
   "mimetype": "text/x-python",
   "name": "python",
   "nbconvert_exporter": "python",
   "pygments_lexer": "ipython3",
   "version": "3.12.7"
  }
 },
 "nbformat": 4,
 "nbformat_minor": 5
}
