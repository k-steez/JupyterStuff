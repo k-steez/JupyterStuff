{
 "cells": [
  {
   "cell_type": "code",
   "execution_count": 1,
   "id": "aa7eeeae-61c6-42db-a46d-804e5079cd77",
   "metadata": {},
   "outputs": [],
   "source": [
    "##VBreaks and continue##"
   ]
  },
  {
   "cell_type": "code",
   "execution_count": 7,
   "id": "c282bdd8-e42d-4fc7-9c0b-59df1dc80a43",
   "metadata": {},
   "outputs": [
    {
     "name": "stdout",
     "output_type": "stream",
     "text": [
      "1, 2, 4, 5, 7, 8, 10, 11, 13, 14, 16, 17, 19, 20, 22, 23, 25, 26, 28, 29, "
     ]
    }
   ],
   "source": [
    "for i in range(30):\n",
    "    if i % 3 == 0:\n",
    "        continue\n",
    "    print(i,end = ', ')"
   ]
  },
  {
   "cell_type": "code",
   "execution_count": 27,
   "id": "24dd095b-3f67-4f43-818c-e3c19cc6c651",
   "metadata": {},
   "outputs": [],
   "source": [
    "##[0.2*x for x in range(101)]"
   ]
  },
  {
   "cell_type": "code",
   "execution_count": 21,
   "id": "410ec332-8457-44f8-b109-05e9bbcca96e",
   "metadata": {},
   "outputs": [
    {
     "data": {
      "text/plain": [
       "[1, 2, 4, 5, 7, 8, 10, 11, 13, 14, 16, 17, 19, 20, 22, 23, 25, 26, 28, 29]"
      ]
     },
     "execution_count": 21,
     "metadata": {},
     "output_type": "execute_result"
    }
   ],
   "source": [
    "[i for i in range (30) if %3 != 0]"
   ]
  },
  {
   "cell_type": "code",
   "execution_count": 23,
   "id": "d56e52d8-edd3-45ff-8d7f-907b211e2ac6",
   "metadata": {},
   "outputs": [
    {
     "data": {
      "text/plain": [
       "[-4, -2, 0, 2, 4, 9, 16, 25, 36, 49, 64, 81]"
      ]
     },
     "execution_count": 23,
     "metadata": {},
     "output_type": "execute_result"
    }
   ],
   "source": [
    "[2*x if x <=2 else  x**2 for x in range(-2,10)]"
   ]
  },
  {
   "cell_type": "code",
   "execution_count": null,
   "id": "83d472be-cfcb-451a-9e15-6124406017c3",
   "metadata": {},
   "outputs": [],
   "source": []
  }
 ],
 "metadata": {
  "kernelspec": {
   "display_name": "Python 3 (ipykernel)",
   "language": "python",
   "name": "python3"
  },
  "language_info": {
   "codemirror_mode": {
    "name": "ipython",
    "version": 3
   },
   "file_extension": ".py",
   "mimetype": "text/x-python",
   "name": "python",
   "nbconvert_exporter": "python",
   "pygments_lexer": "ipython3",
   "version": "3.12.7"
  }
 },
 "nbformat": 4,
 "nbformat_minor": 5
}
