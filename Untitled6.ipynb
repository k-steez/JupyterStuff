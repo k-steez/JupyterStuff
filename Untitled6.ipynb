{
 "cells": [
  {
   "cell_type": "code",
   "execution_count": null,
   "id": "35301154-b9cb-4641-9020-1318ad60f028",
   "metadata": {},
   "outputs": [],
   "source": [
    "def isSet(listset):\n",
    "    for element in listset:\n",
    "        if listset.count(element) > 1:\n",
    "            return False\n",
    "    return True\n",
    "            "
   ]
  },
  {
   "cell_type": "code",
   "execution_count": 174,
   "id": "776302fc-717e-4892-92a0-4d05c41a0980",
   "metadata": {},
   "outputs": [],
   "source": [
    "def asSet(lstset):\n",
    "    for element in lstset:\n",
    "        if lstset.count(element) > 1:\n",
    "            lstset.remove(element)\n",
    "            #print lstset\n",
    "    return lstset\n",
    "        \n",
    "   \n",
    "            \n",
    "            \n",
    "            \n",
    "\n",
    "            \n",
    "            \n",
    "        \n",
    "    "
   ]
  },
  {
   "cell_type": "code",
   "execution_count": 176,
   "id": "3deb3817-30c4-42e2-bcb8-91328b6e2f1d",
   "metadata": {},
   "outputs": [
    {
     "data": {
      "text/plain": [
       "[4, 5, 8]"
      ]
     },
     "execution_count": 176,
     "metadata": {},
     "output_type": "execute_result"
    }
   ],
   "source": [
    "asSet([4,5,8])\n",
    "#a = [1,2,3,54]\n",
    "#a.remove(1)"
   ]
  },
  {
   "cell_type": "code",
   "execution_count": 158,
   "id": "508b0962-db9b-439c-a78b-d4cf4fd89276",
   "metadata": {},
   "outputs": [
    {
     "name": "stdout",
     "output_type": "stream",
     "text": [
      "Help on method_descriptor:\n",
      "\n",
      "remove(self, value, /) unbound builtins.list method\n",
      "    Remove first occurrence of value.\n",
      "\n",
      "    Raises ValueError if the value is not present.\n",
      "\n"
     ]
    }
   ],
   "source": [
    "help(list.remove)"
   ]
  },
  {
   "cell_type": "code",
   "execution_count": null,
   "id": "72686f5d-1b2c-483a-80c0-643c060dd600",
   "metadata": {},
   "outputs": [],
   "source": []
  }
 ],
 "metadata": {
  "kernelspec": {
   "display_name": "Python 3 (ipykernel)",
   "language": "python",
   "name": "python3"
  },
  "language_info": {
   "codemirror_mode": {
    "name": "ipython",
    "version": 3
   },
   "file_extension": ".py",
   "mimetype": "text/x-python",
   "name": "python",
   "nbconvert_exporter": "python",
   "pygments_lexer": "ipython3",
   "version": "3.12.7"
  }
 },
 "nbformat": 4,
 "nbformat_minor": 5
}
