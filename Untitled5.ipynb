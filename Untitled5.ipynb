{
 "cells": [
  {
   "cell_type": "code",
   "execution_count": 2,
   "id": "35f836a0-63dd-4468-8da5-eaf0351c4af9",
   "metadata": {},
   "outputs": [],
   "source": []
  },
  {
   "cell_type": "code",
   "execution_count": 6,
   "id": "b1017bcb-c634-4141-b534-e6ddd93c4ac2",
   "metadata": {},
   "outputs": [
    {
     "data": {
      "text/plain": [
       "1"
      ]
     },
     "execution_count": 6,
     "metadata": {},
     "output_type": "execute_result"
    }
   ],
   "source": [
    "a = [2,4,6,8]\n",
    "a.count(6)"
   ]
  },
  {
   "cell_type": "code",
   "execution_count": 37,
   "id": "e75a3ea6-21b3-4895-920a-b721d7699cda",
   "metadata": {},
   "outputs": [],
   "source": [
    "def root(list1):\n",
    "    newlist = []\n",
    "    for num in list1:\n",
    "            num = num**0.5\n",
    "            newlist.append(num)\n",
    "    return newlist"
   ]
  },
  {
   "cell_type": "code",
   "execution_count": 39,
   "id": "e8cae3e8-830c-42eb-ad3b-11a988e840c1",
   "metadata": {},
   "outputs": [
    {
     "data": {
      "text/plain": [
       "[1.0, 1.4142135623730951, 1.7320508075688772, 2.0]"
      ]
     },
     "execution_count": 39,
     "metadata": {},
     "output_type": "execute_result"
    }
   ],
   "source": [
    "root([1,2,3,4])"
   ]
  },
  {
   "cell_type": "code",
   "execution_count": 47,
   "id": "d6f23ad3-559d-4dbc-9b3c-235ba01bc77e",
   "metadata": {
    "scrolled": true
   },
   "outputs": [
    {
     "data": {
      "text/plain": [
       "[1.4142135623730951, 2.0, 2.449489742783178]"
      ]
     },
     "execution_count": 47,
     "metadata": {},
     "output_type": "execute_result"
    }
   ],
   "source": [
    "a = [2,4,6]\n",
    "b = [x**0.5 for x in a]\n",
    "b"
   ]
  },
  {
   "cell_type": "code",
   "execution_count": 59,
   "id": "3ecc81e6-a43a-4aad-adf5-7bba3d91b8f4",
   "metadata": {},
   "outputs": [
    {
     "data": {
      "text/plain": [
       "[16, 36]"
      ]
     },
     "execution_count": 59,
     "metadata": {},
     "output_type": "execute_result"
    }
   ],
   "source": [
    "b = [x**2 for x in a if x > 2]\n",
    "b\n"
   ]
  },
  {
   "cell_type": "code",
   "execution_count": 116,
   "id": "cfdfce1f-9c69-4939-9617-95e89106f0a9",
   "metadata": {},
   "outputs": [],
   "source": [
    "def remainder(lst):\n",
    "   for num in lst:\n",
    "       if num%2 == 0:\n",
    "           print(True)\n",
    "       else:\n",
    "           print(False)\n",
    "           "
   ]
  },
  {
   "cell_type": "code",
   "execution_count": 118,
   "id": "e56c5144-ec9f-4eab-a278-4998a9623abb",
   "metadata": {},
   "outputs": [
    {
     "name": "stdout",
     "output_type": "stream",
     "text": [
      "True\n",
      "False\n",
      "True\n"
     ]
    }
   ],
   "source": [
    "remainder([2,3,4])"
   ]
  },
  {
   "cell_type": "code",
   "execution_count": null,
   "id": "1e769394-3264-4b20-a3a8-88ce144483fa",
   "metadata": {},
   "outputs": [],
   "source": []
  }
 ],
 "metadata": {
  "kernelspec": {
   "display_name": "Python 3 (ipykernel)",
   "language": "python",
   "name": "python3"
  },
  "language_info": {
   "codemirror_mode": {
    "name": "ipython",
    "version": 3
   },
   "file_extension": ".py",
   "mimetype": "text/x-python",
   "name": "python",
   "nbconvert_exporter": "python",
   "pygments_lexer": "ipython3",
   "version": "3.12.7"
  }
 },
 "nbformat": 4,
 "nbformat_minor": 5
}
