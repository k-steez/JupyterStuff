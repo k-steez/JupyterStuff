{
 "cells": [
  {
   "cell_type": "markdown",
   "id": "2cdfb41b-0542-4864-bce3-b642f3df5ffd",
   "metadata": {
    "deletable": false,
    "editable": false
   },
   "source": [
    "<center><b>Math220</b></center>\n",
    "<center><b>Assignment 2</b></center>\n",
    "<center><b>1st Semester 2024/25</b></center>"
   ]
  },
  {
   "cell_type": "markdown",
   "id": "bbe74cae-0836-4ac6-8425-7c1cd9ebee47",
   "metadata": {
    "deletable": false,
    "editable": false
   },
   "source": [
    "A geometric progression has the form $a,ar,r^2,\\ldots,r^i$ where $a$ is the initial value and $r$ is the common ratio. Create a function **`GP`** that takes as input `a` the initial value, `r` the common ratio and `n` the number of elements in the sequence and returns a list of the first $n$ elements of the sequence."
   ]
  },
  {
   "cell_type": "code",
   "execution_count": 24,
   "id": "Q1",
   "metadata": {
    "deletable": false,
    "editable": true
   },
   "outputs": [],
   "source": [
    "#Answer\n",
    "def GP(a,r,n):\n",
    "    elementlist = []\n",
    "    for i in range(n):\n",
    "        num = (a)*(r)**i\n",
    "        elementlist.append(num)\n",
    "    return elementlist        "
   ]
  },
  {
   "cell_type": "code",
   "execution_count": 26,
   "id": "d76df246-d342-42fb-9d0c-32a85ad52be5",
   "metadata": {},
   "outputs": [
    {
     "data": {
      "text/plain": [
       "[2.0, 1.0, 0.5, 0.25, 0.125, 0.0625, 0.03125, 0.015625, 0.0078125, 0.00390625]"
      ]
     },
     "execution_count": 26,
     "metadata": {},
     "output_type": "execute_result"
    }
   ],
   "source": [
    "GP(2,0.5,10)"
   ]
  },
  {
   "cell_type": "markdown",
   "id": "92afcb6c-db04-4d4b-b477-456086872e13",
   "metadata": {
    "deletable": false,
    "editable": false
   },
   "source": [
    "The trapezoidal rule for approximating the integral of a function $f$ is $$\\int_a^bf(x)dx = \\frac{b-a}{2}(f(a)+f(b).$$ Create a function **`trapz`** that takes as argument a function $f$ and the interval of on integration represented as a function and returns the trapezoidal approximation of the integral."
   ]
  },
  {
   "cell_type": "code",
   "execution_count": 173,
   "id": "a47b76ae-50fe-44a9-9415-02e8fd6fadef",
   "metadata": {},
   "outputs": [],
   "source": [
    "x = 4\n",
    "f = lambda x:x+1,x\n"
   ]
  },
  {
   "cell_type": "code",
   "execution_count": 175,
   "id": "Q2",
   "metadata": {
    "deletable": false,
    "editable": true
   },
   "outputs": [
    {
     "ename": "SyntaxError",
     "evalue": "invalid syntax (4290079496.py, line 4)",
     "output_type": "error",
     "traceback": [
      "\u001b[1;36m  Cell \u001b[1;32mIn[175], line 4\u001b[1;36m\u001b[0m\n\u001b[1;33m    trapfunc = ((b-a)/2)*(lambda x:f(a) + lambda x:f(b))\u001b[0m\n\u001b[1;37m                                          ^\u001b[0m\n\u001b[1;31mSyntaxError\u001b[0m\u001b[1;31m:\u001b[0m invalid syntax\n"
     ]
    }
   ],
   "source": [
    "#Answer\n",
    "def trapz(a,b,f):\n",
    "    g = lambda x:f\n",
    "    trapfunc = ((b-a)/2)*(lambda x:f(a) + lambda x:f(b))\n",
    "    return trapfunc\n",
    "    "
   ]
  },
  {
   "cell_type": "markdown",
   "id": "f2240f37-d237-4985-aaa5-78b5599c9784",
   "metadata": {
    "deletable": false,
    "editable": false
   },
   "source": [
    "Given the two lines $$ \\begin{split} y &= m_1x+c_1 \\\\ y &= m_2x+c_2,\\end{split}$$ it can easily be shown that the intersection of the two lines will be at $$ \\begin{split}x^\\ast &= \\frac{c_2-c_1}{m_1-m_2} \\\\ y^\\ast &= m_1x^\\ast + c_1\\end{split}$$ so far as $m_1 \\ne m_2.$ Create a function **`line_intersect`** that takes as input two lines expressed as tuples of their coefficients $(m,c)$ and returns the point of intersection as a tuple if the lines intersect, otherwise the function returns `None`."
   ]
  },
  {
   "cell_type": "code",
   "execution_count": 18,
   "id": "Q3",
   "metadata": {
    "deletable": false,
    "editable": true
   },
   "outputs": [],
   "source": [
    "#Answer\n",
    "def line_intersect(m1,c1,m2,c2):\n",
    "    if m1 != m2:\n",
    "        y1 = (m1,c1)\n",
    "        y2 = (m2,c2)\n",
    "\n",
    "        x = (c2 - c1)/ (m1 - m2)\n",
    "        y = (m1 * x) + c1\n",
    "        return (x,y)\n",
    "    else:\n",
    "        return None\n",
    "        \n",
    "    \n",
    "    "
   ]
  },
  {
   "cell_type": "code",
   "execution_count": 20,
   "id": "3276f18c-e42f-489d-855d-aa3035280904",
   "metadata": {},
   "outputs": [
    {
     "data": {
      "text/plain": [
       "(2.0, 24.0)"
      ]
     },
     "execution_count": 20,
     "metadata": {},
     "output_type": "execute_result"
    }
   ],
   "source": [
    "line_intersect(10,4,9,6)"
   ]
  },
  {
   "cell_type": "markdown",
   "id": "64afdb65-64f9-443c-b18b-ade44e9dd6e2",
   "metadata": {
    "deletable": false,
    "editable": false
   },
   "source": [
    "The distance between two vectors $\\boldsymbol{a}$ and $\\boldsymbol{b}$ is the quantity $$\\sqrt{\\left(a_1 - b_1 \\right)^2 + \\left(a_2 - b_2 \\right)^2}.$$ Write a function **`vec_dist`** that takes as arguments two tuples $\\boldsymbol{a}$ and $\\boldsymbol{b}$ representing vectors and returns the distance between the two vectors."
   ]
  },
  {
   "cell_type": "code",
   "execution_count": 85,
   "id": "Q4",
   "metadata": {
    "deletable": false,
    "editable": true
   },
   "outputs": [],
   "source": [
    "#Answer\n",
    "def tupletransform(a1,b1,a2,b2):\n",
    "        vec1 = (a1,b1)\n",
    "        vec2 = (a2,b2)\n",
    "        return vec1, vec2\n",
    "\n",
    "\n",
    "def vec_dist(a1,b1,a2,b2):\n",
    "    dist = (((a1-b1)**2) + ((a2-b2)**2))**0.5\n",
    "    return dist\n"
   ]
  }
 ],
 "metadata": {
  "kernelspec": {
   "display_name": "Python 3 (ipykernel)",
   "language": "python",
   "name": "python3"
  },
  "language_info": {
   "codemirror_mode": {
    "name": "ipython",
    "version": 3
   },
   "file_extension": ".py",
   "mimetype": "text/x-python",
   "name": "python",
   "nbconvert_exporter": "python",
   "pygments_lexer": "ipython3",
   "version": "3.12.7"
  }
 },
 "nbformat": 4,
 "nbformat_minor": 5
}
