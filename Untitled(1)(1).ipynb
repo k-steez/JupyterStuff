{
 "cells": [
  {
   "cell_type": "code",
   "execution_count": 1,
   "id": "ad7f2243-ae23-41c1-9d5d-16c8e5e4ed99",
   "metadata": {},
   "outputs": [
    {
     "name": "stdout",
     "output_type": "stream",
     "text": [
      "[1, 2, 3, 4, 5, 6, 7, 8, 9, 10, 11, 12, 13, 14, 15, 16, 17, 18, 19, 20, 21, 22, 23, 24, 25, 26, 27, 28, 29, 30, 31, 32, 33, 34, 35, 36, 37, 38, 39, 40, 41, 42, 43, 44, 45, 46, 47, 48, 49, 50, 51, 52, 53, 54, 55, 56, 57, 58, 59, 60, 61, 62, 63, 64, 65, 66, 67, 68, 69, 70, 71, 72, 73, 74, 75, 76, 77, 78, 79, 80, 81, 82, 83, 84, 85, 86, 87, 88, 89, 90, 91, 92, 93, 94, 95, 96, 97, 98, 99]\n"
     ]
    }
   ],
   "source": [
    "x = list(range(1,100))\n",
    "print(x)"
   ]
  },
  {
   "cell_type": "code",
   "execution_count": 33,
   "id": "118fd91e-e5c1-40a0-9074-bd786b12f7d5",
   "metadata": {},
   "outputs": [],
   "source": [
    "new_x = [x for x in range(1,100) if x % 3 == 0]\n"
   ]
  },
  {
   "cell_type": "code",
   "execution_count": null,
   "id": "15985d56-fac7-4d25-951d-bd6311002a31",
   "metadata": {},
   "outputs": [],
   "source": []
  },
  {
   "cell_type": "code",
   "execution_count": 37,
   "id": "b2dcb004-b83b-4861-92d1-01134f7a59d4",
   "metadata": {},
   "outputs": [
    {
     "data": {
      "text/plain": [
       "[3, 9, 15, 21, 27, 33, 39, 45, 51, 57, 63, 69, 75, 81, 87, 93, 99]"
      ]
     },
     "execution_count": 37,
     "metadata": {},
     "output_type": "execute_result"
    }
   ],
   "source": [
    "new_y = [x for x in range(1,100) if x % 3 == 0 and x%2 != 0]\n",
    "new_y"
   ]
  },
  {
   "cell_type": "code",
   "execution_count": 61,
   "id": "07a480fc-17a3-4548-ba63-d8be4482c895",
   "metadata": {},
   "outputs": [],
   "source": [
    "def line(m,c,y):\n",
    "    if y == 0:\n",
    "        x = -c/m\n",
    "        return x\n",
    "    "
   ]
  },
  {
   "cell_type": "code",
   "execution_count": 90,
   "id": "83cbfa1f-9171-4c2d-9873-994e0874d9b0",
   "metadata": {},
   "outputs": [
    {
     "data": {
      "text/plain": [
       "[2, 5, 8]"
      ]
     },
     "execution_count": 90,
     "metadata": {},
     "output_type": "execute_result"
    }
   ],
   "source": [
    "\n",
    "list_c = []\n",
    "for i in range(len(list_a)):\n",
    "    for a in range(len(list_b)):\n",
    "        if list_a[i] == list_b[a]:\n",
    "             list_c.append(list_a[i])\n",
    "\n",
    "\n",
    "list_c\n",
    "\n",
    "\n",
    "\n",
    "    "
   ]
  },
  {
   "cell_type": "code",
   "execution_count": null,
   "id": "22660f09-54d0-4e36-b98f-11e27fa21a80",
   "metadata": {},
   "outputs": [],
   "source": []
  },
  {
   "cell_type": "code",
   "execution_count": 40,
   "id": "95572efe-27db-480d-b6ca-e1b641a7a9ae",
   "metadata": {},
   "outputs": [],
   "source": [
    "def isSet(listset):\n",
    "    for element in listset:\n",
    "        if listset.count(element) > 1:\n",
    "            return False\n",
    "    return True\n",
    "            "
   ]
  },
  {
   "cell_type": "code",
   "execution_count": 42,
   "id": "974f60a9-dc49-441d-aa3e-d7870e2b81cd",
   "metadata": {},
   "outputs": [
    {
     "data": {
      "text/plain": [
       "True"
      ]
     },
     "execution_count": 42,
     "metadata": {},
     "output_type": "execute_result"
    }
   ],
   "source": [
    "isSet([\"Dog\",\"China\",\"Gym\",\"Paint\"])"
   ]
  },
  {
   "cell_type": "code",
   "execution_count": 34,
   "id": "6fbc3e4f-4847-4d47-84d2-2a70478673b1",
   "metadata": {},
   "outputs": [],
   "source": [
    "\n",
    "def sumfunc(n):\n",
    "    mysum = 0\n",
    "    for i in range(n+1):\n",
    "        mysum = i+(i+1)\n",
    "        print(mysum)"
   ]
  },
  {
   "cell_type": "code",
   "execution_count": 36,
   "id": "5df0ca70-85c2-48ca-a03c-f160774af735",
   "metadata": {},
   "outputs": [
    {
     "name": "stdout",
     "output_type": "stream",
     "text": [
      "1\n",
      "3\n",
      "5\n",
      "7\n",
      "9\n",
      "11\n",
      "13\n",
      "15\n",
      "17\n",
      "19\n"
     ]
    }
   ],
   "source": [
    "sumfunc(9)"
   ]
  },
  {
   "cell_type": "code",
   "execution_count": 46,
   "id": "4cbff9b5-b4a4-426e-9412-234eedc6e823",
   "metadata": {},
   "outputs": [],
   "source": [
    "def isPalindrome(string):\n",
    "    reverse = string[::-1]\n",
    "    if string == reverse:\n",
    "        return True\n",
    "    return False"
   ]
  },
  {
   "cell_type": "code",
   "execution_count": 52,
   "id": "f59c5bf0-fe14-4bc7-be24-ec448ce5d30a",
   "metadata": {},
   "outputs": [
    {
     "data": {
      "text/plain": [
       "False"
      ]
     },
     "execution_count": 52,
     "metadata": {},
     "output_type": "execute_result"
    }
   ],
   "source": [
    "isPalindrome('James')"
   ]
  },
  {
   "cell_type": "code",
   "execution_count": 64,
   "id": "fb71b16b-50f9-473b-a493-44141b6efd73",
   "metadata": {},
   "outputs": [],
   "source": [
    "def isPalindrome(string):\n",
    "    string = string.lower()\n",
    "    string = [i for i in string if i.isalnum()]\n",
    "    return string == string[::-1]"
   ]
  },
  {
   "cell_type": "code",
   "execution_count": 66,
   "id": "8aae5e52-4316-4ccc-b9d4-b129fa57e413",
   "metadata": {},
   "outputs": [
    {
     "data": {
      "text/plain": [
       "True"
      ]
     },
     "execution_count": 66,
     "metadata": {},
     "output_type": "execute_result"
    }
   ],
   "source": [
    "isPalindrome(\"nurses run\")"
   ]
  },
  {
   "cell_type": "code",
   "execution_count": 80,
   "id": "b8b72a0f-f03a-493b-a0dd-ce0895ad5585",
   "metadata": {},
   "outputs": [],
   "source": [
    "def remainder(n):\n",
    "    r = []\n",
    "    while n > 0:\n",
    "        r.append(str(n%2))\n",
    "        n //= 2\n",
    "    return (''.join(r))[::-1]\n",
    "\n"
   ]
  },
  {
   "cell_type": "code",
   "execution_count": 86,
   "id": "24948bbf-273a-4f6f-825a-88358b428265",
   "metadata": {},
   "outputs": [
    {
     "data": {
      "text/plain": [
       "'111000'"
      ]
     },
     "execution_count": 86,
     "metadata": {},
     "output_type": "execute_result"
    }
   ],
   "source": [
    "remainder(56)"
   ]
  },
  {
   "cell_type": "code",
   "execution_count": 10,
   "id": "d07d2bed-4958-4dd8-b42e-2b5343a821d7",
   "metadata": {},
   "outputs": [],
   "source": [
    "def quadtp(a,b,c):\n",
    "    x = -b/(2*a)\n",
    "    y = a*(x**2) + b*x + c\n",
    "    return x,y"
   ]
  },
  {
   "cell_type": "code",
   "execution_count": 46,
   "id": "65ad8e3b-4a98-4778-a097-d6c1a914e2b6",
   "metadata": {},
   "outputs": [],
   "source": [
    "def tangenteqn(a,x,y,b):\n",
    "    m = -(x-a)/(y-b)\n",
    "    c = y - m*x\n",
    "    return m,c\n",
    "\n",
    "## return (lambda x:m*x+c)\n",
    "    "
   ]
  },
  {
   "cell_type": "code",
   "execution_count": 34,
   "id": "d8be3077-06f0-4c75-af14-49a943121382",
   "metadata": {},
   "outputs": [
    {
     "data": {
      "text/plain": [
       "(1.0, 7.0)"
      ]
     },
     "execution_count": 34,
     "metadata": {},
     "output_type": "execute_result"
    }
   ],
   "source": [
    "tangenteqn(5,4,3,2)"
   ]
  },
  {
   "cell_type": "code",
   "execution_count": 42,
   "id": "44555122-2689-4b40-9964-e7c2a6586bbe",
   "metadata": {},
   "outputs": [],
   "source": [
    "##returns the x coordinate of a circle centered at (a,b)\n",
    "def returnx(a,b,r,y):\n",
    "    if y-b > r:\n",
    "        return None\n",
    "    else:\n",
    "        x = ((r**2)-((y-b)**2))**0.5 + a\n",
    "        return x"
   ]
  },
  {
   "cell_type": "code",
   "execution_count": 44,
   "id": "01892e21-501c-432b-8ce8-69cd6ed9668a",
   "metadata": {},
   "outputs": [],
   "source": [
    "## returns the y coordinate of a circle centered at (a,b)\n",
    "def returny(a,b,r,x):\n",
    "    if x-a > r:\n",
    "        return None\n",
    "    else:\n",
    "        y = ((r**2)-((x-a)**2))**0.5 + b\n",
    "        return y"
   ]
  },
  {
   "cell_type": "code",
   "execution_count": null,
   "id": "071c96c9-9d8f-48da-9492-0fb8ef4ec3f7",
   "metadata": {},
   "outputs": [],
   "source": []
  }
 ],
 "metadata": {
  "kernelspec": {
   "display_name": "Python 3 (ipykernel)",
   "language": "python",
   "name": "python3"
  },
  "language_info": {
   "codemirror_mode": {
    "name": "ipython",
    "version": 3
   },
   "file_extension": ".py",
   "mimetype": "text/x-python",
   "name": "python",
   "nbconvert_exporter": "python",
   "pygments_lexer": "ipython3",
   "version": "3.12.7"
  }
 },
 "nbformat": 4,
 "nbformat_minor": 5
}
