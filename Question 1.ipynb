{
 "cells": [
  {
   "cell_type": "code",
   "execution_count": 23,
   "id": "0ad32e14-0b5e-444c-8d7b-4af5158f4f26",
   "metadata": {},
   "outputs": [],
   "source": [
    "import matplotlib.pyplot as plt"
   ]
  },
  {
   "cell_type": "code",
   "execution_count": 9,
   "id": "75fce612-7b4d-4ab8-a572-c748156087a2",
   "metadata": {},
   "outputs": [],
   "source": [
    "def color_invert(rgb):\n",
    "\treturn (255-rgb[0], 255-rgb[1], 255-rgb[2])\n",
    "\t"
   ]
  },
  {
   "cell_type": "code",
   "execution_count": 15,
   "id": "b7b5ebaf-f42d-46e0-a85d-bc37a6d29c54",
   "metadata": {},
   "outputs": [
    {
     "data": {
      "text/plain": [
       "(90, 85, 136)"
      ]
     },
     "execution_count": 15,
     "metadata": {},
     "output_type": "execute_result"
    }
   ],
   "source": [
    "color_invert((165, 170, 119))"
   ]
  },
  {
   "cell_type": "code",
   "execution_count": 9,
   "id": "f5c9a9a6-4f3d-45f8-841e-66c995245bc5",
   "metadata": {},
   "outputs": [],
   "source": [
    "def createinterval(lst, interval):\n",
    "    complexlst = [lst[0]+ 1j]\n",
    "    for i in range(len(lst) + 1) : \n",
    "        new_num = (lst[0] + interval) + 1j*interval\n",
    "        lst[0] = lst[0] + interval\n",
    "        complexlst.append(new_num)\n",
    "    return complexlst\n",
    "\n"
   ]
  },
  {
   "cell_type": "code",
   "execution_count": 11,
   "id": "0ffc1fdd-6c23-46b6-aa3f-845408015912",
   "metadata": {},
   "outputs": [
    {
     "data": {
      "text/plain": [
       "[(-1+1j), 1j, (1+1j), (2+1j), (3+1j)]"
      ]
     },
     "execution_count": 11,
     "metadata": {},
     "output_type": "execute_result"
    }
   ],
   "source": [
    " complexlst = createinterval([-1,0,1], 1)\n",
    "complexlst"
   ]
  },
  {
   "cell_type": "code",
   "execution_count": 13,
   "id": "847603f5-100b-4969-900b-b3d39d90fa58",
   "metadata": {},
   "outputs": [],
   "source": [
    "def y(condition,lst):\n",
    "    positive_ylist = []\n",
    "    if condition == 'positive':\n",
    "        for i in range(len(lst)):\n",
    "            y = (1-(lst[i])**2)**0.5\n",
    "            positive_ylist.append(y)\n",
    "    elif condition == 'negative':\n",
    "        for i in range(len(lst)):\n",
    "            y = -(1-(lst[i])**2)**0.5\n",
    "            positive_ylist.append(y)\n",
    "    return positive_ylist\n",
    "    "
   ]
  },
  {
   "cell_type": "code",
   "execution_count": 15,
   "id": "4d58626b-3c8d-4f36-8d73-27367b64a5ef",
   "metadata": {},
   "outputs": [
    {
     "data": {
      "text/plain": [
       "[(1.272019649514069+0.7861513777574233j),\n",
       " (1.4142135623730951+0j),\n",
       " (1.272019649514069-0.7861513777574233j),\n",
       " (1.1117859405028423-1.798907439947867j),\n",
       " (1.0534572742387054-2.8477661822288787j)]"
      ]
     },
     "execution_count": 15,
     "metadata": {},
     "output_type": "execute_result"
    }
   ],
   "source": [
    "y('positive',complexlst)"
   ]
  },
  {
   "cell_type": "code",
   "execution_count": 17,
   "id": "bc472cce-b6fc-4f4e-bce4-3b5b770590d8",
   "metadata": {},
   "outputs": [],
   "source": [
    "def plot(lst):\n",
    "    x = []\n",
    "    y = []\n",
    "    for i in range(len(lst)):\n",
    "        x.append(lst[i].real)\n",
    "        y.append(lst[i].imag)\n",
    "    return x,y"
   ]
  },
  {
   "cell_type": "code",
   "execution_count": 19,
   "id": "5314d617-c6d6-4129-adbd-f5b8d818070a",
   "metadata": {},
   "outputs": [],
   "source": [
    "x,y = plot(complexlst)"
   ]
  },
  {
   "cell_type": "code",
   "execution_count": 24,
   "id": "353e8417-8073-4b2e-9b69-acc2e2cc35a1",
   "metadata": {},
   "outputs": [
    {
     "data": {
      "text/plain": [
       "[<matplotlib.lines.Line2D at 0x15b13613740>]"
      ]
     },
     "execution_count": 24,
     "metadata": {},
     "output_type": "execute_result"
    },
    {
     "data": {
      "image/png": "[encoded data removed]",
      "text/plain": [
       "<Figure size 640x480 with 1 Axes>"
      ]
     },
     "metadata": {},
     "output_type": "display_data"
    }
   ],
   "source": [
    "plt.plot(x,y)"
   ]
  },
  {
   "cell_type": "code",
   "execution_count": null,
   "id": "14648046-96e8-4275-b088-f52a28ca920b",
   "metadata": {},
   "outputs": [],
   "source": []
  }
 ],
 "metadata": {
  "kernelspec": {
   "display_name": "Python 3 (ipykernel)",
   "language": "python",
   "name": "python3"
  },
  "language_info": {
   "codemirror_mode": {
    "name": "ipython",
    "version": 3
   },
   "file_extension": ".py",
   "mimetype": "text/x-python",
   "name": "python",
   "nbconvert_exporter": "python",
   "pygments_lexer": "ipython3",
   "version": "3.12.7"
  }
 },
 "nbformat": 4,
 "nbformat_minor": 5
}
