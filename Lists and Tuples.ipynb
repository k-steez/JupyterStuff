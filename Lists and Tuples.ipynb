{
 "cells": [
  {
   "cell_type": "code",
   "execution_count": 2,
   "id": "6ab99f24-5168-49c0-a4bc-6351f1c902bc",
   "metadata": {},
   "outputs": [],
   "source": [
    "f = lambda x,y: x + y"
   ]
  },
  {
   "cell_type": "code",
   "execution_count": 4,
   "id": "1f28a8e6-3e10-427b-82f3-3aee6857522e",
   "metadata": {},
   "outputs": [
    {
     "data": {
      "text/plain": [
       "5"
      ]
     },
     "execution_count": 4,
     "metadata": {},
     "output_type": "execute_result"
    }
   ],
   "source": [
    "f(2,3)"
   ]
  },
  {
   "cell_type": "code",
   "execution_count": 8,
   "id": "f864fce7-b3f1-4ef0-8f06-d73a85e15261",
   "metadata": {},
   "outputs": [],
   "source": [
    "import math"
   ]
  },
  {
   "cell_type": "code",
   "execution_count": 10,
   "id": "c21d0b50-27dd-4556-acce-0fef5f0785a6",
   "metadata": {},
   "outputs": [
    {
     "name": "stdout",
     "output_type": "stream",
     "text": [
      "['__doc__', '__loader__', '__name__', '__package__', '__spec__', 'acos', 'acosh', 'asin', 'asinh', 'atan', 'atan2', 'atanh', 'cbrt', 'ceil', 'comb', 'copysign', 'cos', 'cosh', 'degrees', 'dist', 'e', 'erf', 'erfc', 'exp', 'exp2', 'expm1', 'fabs', 'factorial', 'floor', 'fmod', 'frexp', 'fsum', 'gamma', 'gcd', 'hypot', 'inf', 'isclose', 'isfinite', 'isinf', 'isnan', 'isqrt', 'lcm', 'ldexp', 'lgamma', 'log', 'log10', 'log1p', 'log2', 'modf', 'nan', 'nextafter', 'perm', 'pi', 'pow', 'prod', 'radians', 'remainder', 'sin', 'sinh', 'sqrt', 'sumprod', 'tan', 'tanh', 'tau', 'trunc', 'ulp']\n"
     ]
    }
   ],
   "source": [
    "print(dir(math))"
   ]
  },
  {
   "cell_type": "code",
   "execution_count": null,
   "id": "47892687-40bf-4c45-b46b-4c34433533b1",
   "metadata": {},
   "outputs": [],
   "source": [
    "math.cos(2)"
   ]
  },
  {
   "cell_type": "code",
   "execution_count": 14,
   "id": "aec060b3-a40f-4c1c-b98c-6e3688fe8bd7",
   "metadata": {},
   "outputs": [
    {
     "data": {
      "text/plain": [
       "-1.0"
      ]
     },
     "execution_count": 14,
     "metadata": {},
     "output_type": "execute_result"
    }
   ],
   "source": [
    "b = math.radians(180)\n",
    "math.cos(b)"
   ]
  },
  {
   "cell_type": "code",
   "execution_count": 20,
   "id": "2520215b-0241-4573-af56-220dec76865a",
   "metadata": {},
   "outputs": [],
   "source": [
    "\n",
    "z.append(5)\n"
   ]
  },
  {
   "cell_type": "code",
   "execution_count": 5,
   "id": "38343fc5-cd35-4fac-a89e-50ea958b65ff",
   "metadata": {},
   "outputs": [],
   "source": [
    "a = [2,4,\"Adiza\", 3.5]"
   ]
  },
  {
   "cell_type": "code",
   "execution_count": 21,
   "id": "5cb17179-7fc0-4ed6-ac85-a4ff43417a38",
   "metadata": {},
   "outputs": [],
   "source": [
    "a[2] = \"Kwame\""
   ]
  },
  {
   "cell_type": "code",
   "execution_count": 41,
   "id": "cb1b1a43-9457-433b-8b1f-62507d8a8fab",
   "metadata": {},
   "outputs": [
    {
     "data": {
      "text/plain": [
       "[2, 4, 'Kwame', 3.5, 'Kwame', 25, 'A', 'm', 'a', 'A', 'm', 'a', 10, 11, 12]"
      ]
     },
     "execution_count": 41,
     "metadata": {},
     "output_type": "execute_result"
    }
   ],
   "source": [
    "a.extend([10,11,12])\n",
    "a"
   ]
  },
  {
   "cell_type": "code",
   "execution_count": 33,
   "id": "6a218f85-23f3-4287-a501-dd4e752b0709",
   "metadata": {},
   "outputs": [
    {
     "data": {
      "text/plain": [
       "False"
      ]
     },
     "execution_count": 33,
     "metadata": {},
     "output_type": "execute_result"
    }
   ],
   "source": [
    "10 in a"
   ]
  },
  {
   "cell_type": "code",
   "execution_count": 99,
   "id": "f41b6aa2-5343-4fa8-a660-2863c49e136d",
   "metadata": {},
   "outputs": [],
   "source": [
    "a = [10,11]"
   ]
  },
  {
   "cell_type": "code",
   "execution_count": 101,
   "id": "d55f61f4-2dd0-4066-a00f-d86506bfc4dc",
   "metadata": {},
   "outputs": [
    {
     "ename": "IndexError",
     "evalue": "list index out of range",
     "output_type": "error",
     "traceback": [
      "\u001b[1;31m---------------------------------------------------------------------------\u001b[0m",
      "\u001b[1;31mIndexError\u001b[0m                                Traceback (most recent call last)",
      "Cell \u001b[1;32mIn[101], line 1\u001b[0m\n\u001b[1;32m----> 1\u001b[0m \u001b[43ma\u001b[49m\u001b[43m[\u001b[49m\u001b[38;5;241;43m2\u001b[39;49m\u001b[43m]\u001b[49m\n",
      "\u001b[1;31mIndexError\u001b[0m: list index out of range"
     ]
    }
   ],
   "source": [
    "a[2]"
   ]
  },
  {
   "cell_type": "code",
   "execution_count": 103,
   "id": "5799ec0d-4956-47a0-9023-04654e0f4e1a",
   "metadata": {},
   "outputs": [],
   "source": [
    "a = (2,4)"
   ]
  },
  {
   "cell_type": "code",
   "execution_count": 107,
   "id": "a09e0b9e-c551-443d-9849-a1bbc31f7c3d",
   "metadata": {},
   "outputs": [
    {
     "data": {
      "text/plain": [
       "2"
      ]
     },
     "execution_count": 107,
     "metadata": {},
     "output_type": "execute_result"
    }
   ],
   "source": [
    "a[0]\n"
   ]
  },
  {
   "cell_type": "code",
   "execution_count": null,
   "id": "a5e7a7bd-b22f-4649-9cd6-e126b20aa28f",
   "metadata": {},
   "outputs": [],
   "source": [
    "a = [1,2,3,4,5,6,7,8]\n",
    "for i in a:\n",
    "        print(\"i is \"+str(i))"
   ]
  },
  {
   "cell_type": "code",
   "execution_count": 129,
   "id": "f1954f04-b6e7-4f7f-8c32-ebb25a3df535",
   "metadata": {},
   "outputs": [
    {
     "data": {
      "text/plain": [
       "True"
      ]
     },
     "execution_count": 129,
     "metadata": {},
     "output_type": "execute_result"
    }
   ],
   "source": [
    "2 != 3"
   ]
  },
  {
   "cell_type": "code",
   "execution_count": 137,
   "id": "88114371-914a-4e4e-b55d-7f1df11138fd",
   "metadata": {},
   "outputs": [
    {
     "data": {
      "text/plain": [
       "6"
      ]
     },
     "execution_count": 137,
     "metadata": {},
     "output_type": "execute_result"
    }
   ],
   "source": [
    "b = [1,2,3,4,5,6]\n",
    "len(b)"
   ]
  },
  {
   "cell_type": "code",
   "execution_count": null,
   "id": "01246351-ae11-43ac-963f-37bc4726926d",
   "metadata": {},
   "outputs": [],
   "source": []
  }
 ],
 "metadata": {
  "kernelspec": {
   "display_name": "Python 3 (ipykernel)",
   "language": "python",
   "name": "python3"
  },
  "language_info": {
   "codemirror_mode": {
    "name": "ipython",
    "version": 3
   },
   "file_extension": ".py",
   "mimetype": "text/x-python",
   "name": "python",
   "nbconvert_exporter": "python",
   "pygments_lexer": "ipython3",
   "version": "3.12.7"
  }
 },
 "nbformat": 4,
 "nbformat_minor": 5
}
